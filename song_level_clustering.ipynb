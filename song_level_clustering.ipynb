{
 "cells": [
  {
   "cell_type": "code",
   "execution_count": 3,
   "metadata": {},
   "outputs": [],
   "source": [
    "import pandas as pd\n",
    "import matplotlib.pyplot as plt\n",
    "import csv,os,re\n",
    "import sklearn\n",
    "import numpy as np"
   ]
  },
  {
   "cell_type": "code",
   "execution_count": 4,
   "metadata": {},
   "outputs": [],
   "source": [
    "df = pd.read_csv(r'lyrics_extended.csv')"
   ]
  },
  {
   "cell_type": "code",
   "execution_count": 5,
   "metadata": {
    "collapsed": true
   },
   "outputs": [
    {
     "data": {
      "text/plain": [
       "dolly-parton             741\n",
       "elton-john               659\n",
       "chris-brown              616\n",
       "barbra-streisand         592\n",
       "eddy-arnold              591\n",
       "bee-gees                 588\n",
       "bob-dylan                584\n",
       "eminem                   572\n",
       "ella-fitzgerald          571\n",
       "american-idol            565\n",
       "dean-martin              558\n",
       "david-bowie              543\n",
       "b-b-king                 541\n",
       "elvis-costello           517\n",
       "bruce-springsteen        509\n",
       "beach-boys               469\n",
       "bill-anderson            465\n",
       "eric-clapton             444\n",
       "chumbawamba              416\n",
       "frank-sinatra            411\n",
       "britney-spears           404\n",
       "chicago                  400\n",
       "frank-zappa              398\n",
       "diana-ross               397\n",
       "beatles                  395\n",
       "50-cent                  394\n",
       "celine-dion              386\n",
       "emmylou-harris           383\n",
       "chamillionaire           380\n",
       "bon-jovi                 379\n",
       "                        ... \n",
       "elliot-matsu              10\n",
       "clara-lofaro              10\n",
       "bluemchen                 10\n",
       "clit-45                   10\n",
       "deblert-mcclinton         10\n",
       "emilia-de-poret           10\n",
       "comadre                   10\n",
       "anita-wilson              10\n",
       "the-geraldine-fibbers     10\n",
       "flow                      10\n",
       "afterschool               10\n",
       "bamboozlers               10\n",
       "gentle-bones              10\n",
       "christi-warner            10\n",
       "eager                     10\n",
       "french-kicks              10\n",
       "dilba                     10\n",
       "andrew-jackson-jihad      10\n",
       "the-chameleons-uk         10\n",
       "eric-michael-jones        10\n",
       "the-gills                 10\n",
       "55-escape                 10\n",
       "astropol                  10\n",
       "atoms-for-peace           10\n",
       "antonio-carlos-jobim      10\n",
       "fatal-smile               10\n",
       "brody-dalle               10\n",
       "free-for-fever            10\n",
       "cabaret-noir              10\n",
       "g-dragon                  10\n",
       "Name: artist, Length: 4942, dtype: int64"
      ]
     },
     "execution_count": 5,
     "metadata": {},
     "output_type": "execute_result"
    }
   ],
   "source": [
    "\n",
    "df['artist'].value_counts() #Every artist has a minimum of 10 songs. A total of 4942 artists\n"
   ]
  },
  {
   "cell_type": "code",
   "execution_count": 6,
   "metadata": {
    "collapsed": true
   },
   "outputs": [
    {
     "data": {
      "text/html": [
       "<div>\n",
       "<style scoped>\n",
       "    .dataframe tbody tr th:only-of-type {\n",
       "        vertical-align: middle;\n",
       "    }\n",
       "\n",
       "    .dataframe tbody tr th {\n",
       "        vertical-align: top;\n",
       "    }\n",
       "\n",
       "    .dataframe thead th {\n",
       "        text-align: right;\n",
       "    }\n",
       "</style>\n",
       "<table border=\"1\" class=\"dataframe\">\n",
       "  <thead>\n",
       "    <tr style=\"text-align: right;\">\n",
       "      <th></th>\n",
       "      <th>song</th>\n",
       "      <th>artist</th>\n",
       "      <th>genre</th>\n",
       "      <th>lyrics</th>\n",
       "      <th>Unique_Word_Count</th>\n",
       "      <th>Type-Token Ratio</th>\n",
       "      <th>Sentiment Polarity</th>\n",
       "      <th>Word Density</th>\n",
       "    </tr>\n",
       "  </thead>\n",
       "  <tbody>\n",
       "    <tr>\n",
       "      <th>0</th>\n",
       "      <td>ego-remix</td>\n",
       "      <td>beyonce-knowles</td>\n",
       "      <td>Pop</td>\n",
       "      <td>Oh baby, how you doing?. You know I'm gonna cu...</td>\n",
       "      <td>159</td>\n",
       "      <td>0.367206</td>\n",
       "      <td>0.148268</td>\n",
       "      <td>9.640000</td>\n",
       "    </tr>\n",
       "    <tr>\n",
       "      <th>1</th>\n",
       "      <td>then-tell-me</td>\n",
       "      <td>beyonce-knowles</td>\n",
       "      <td>Pop</td>\n",
       "      <td>playin' everything so easy,. it's like you see...</td>\n",
       "      <td>141</td>\n",
       "      <td>0.546512</td>\n",
       "      <td>0.115729</td>\n",
       "      <td>5.849057</td>\n",
       "    </tr>\n",
       "    <tr>\n",
       "      <th>2</th>\n",
       "      <td>honesty</td>\n",
       "      <td>beyonce-knowles</td>\n",
       "      <td>Pop</td>\n",
       "      <td>If you search. For tenderness. It isn't hard t...</td>\n",
       "      <td>119</td>\n",
       "      <td>0.700000</td>\n",
       "      <td>0.004720</td>\n",
       "      <td>4.072727</td>\n",
       "    </tr>\n",
       "    <tr>\n",
       "      <th>3</th>\n",
       "      <td>you-are-my-rock</td>\n",
       "      <td>beyonce-knowles</td>\n",
       "      <td>Pop</td>\n",
       "      <td>Oh oh oh I, oh oh oh I. [Verse 1:]. If I wrote...</td>\n",
       "      <td>153</td>\n",
       "      <td>0.293103</td>\n",
       "      <td>0.407280</td>\n",
       "      <td>6.988506</td>\n",
       "    </tr>\n",
       "    <tr>\n",
       "      <th>4</th>\n",
       "      <td>black-culture</td>\n",
       "      <td>beyonce-knowles</td>\n",
       "      <td>Pop</td>\n",
       "      <td>Party the people, the people the party it's po...</td>\n",
       "      <td>61</td>\n",
       "      <td>0.195513</td>\n",
       "      <td>-0.170833</td>\n",
       "      <td>10.424242</td>\n",
       "    </tr>\n",
       "  </tbody>\n",
       "</table>\n",
       "</div>"
      ],
      "text/plain": [
       "              song           artist genre  \\\n",
       "0        ego-remix  beyonce-knowles   Pop   \n",
       "1     then-tell-me  beyonce-knowles   Pop   \n",
       "2          honesty  beyonce-knowles   Pop   \n",
       "3  you-are-my-rock  beyonce-knowles   Pop   \n",
       "4    black-culture  beyonce-knowles   Pop   \n",
       "\n",
       "                                              lyrics  Unique_Word_Count  \\\n",
       "0  Oh baby, how you doing?. You know I'm gonna cu...                159   \n",
       "1  playin' everything so easy,. it's like you see...                141   \n",
       "2  If you search. For tenderness. It isn't hard t...                119   \n",
       "3  Oh oh oh I, oh oh oh I. [Verse 1:]. If I wrote...                153   \n",
       "4  Party the people, the people the party it's po...                 61   \n",
       "\n",
       "   Type-Token Ratio  Sentiment Polarity  Word Density  \n",
       "0          0.367206            0.148268      9.640000  \n",
       "1          0.546512            0.115729      5.849057  \n",
       "2          0.700000            0.004720      4.072727  \n",
       "3          0.293103            0.407280      6.988506  \n",
       "4          0.195513           -0.170833     10.424242  "
      ]
     },
     "execution_count": 6,
     "metadata": {},
     "output_type": "execute_result"
    }
   ],
   "source": [
    "df.head()"
   ]
  },
  {
   "cell_type": "code",
   "execution_count": 7,
   "metadata": {},
   "outputs": [
    {
     "name": "stderr",
     "output_type": "stream",
     "text": [
      "C:\\Users\\Mudit\\Anaconda3\\envs\\tensorflow_gpuenv\\lib\\site-packages\\ipykernel_launcher.py:4: FutureWarning: Method .as_matrix will be removed in a future version. Use .values instead.\n",
      "  after removing the cwd from sys.path.\n"
     ]
    }
   ],
   "source": [
    "#Iteration 1: Taking the polarity,word density and type-token ratio to construct the clusters using k-means algorithm\n",
    "\n",
    "from sklearn.cluster import KMeans\n",
    "data = df.as_matrix(columns = df.columns[5:]) #Take the last three columns (all contin. numeric values) for building clusters\n",
    "kmeans = KMeans(n_clusters=20, random_state=0).fit(data)"
   ]
  },
  {
   "cell_type": "code",
   "execution_count": 8,
   "metadata": {
    "collapsed": true
   },
   "outputs": [
    {
     "data": {
      "text/plain": [
       "{'n_clusters': 20,\n",
       " 'init': 'k-means++',\n",
       " 'max_iter': 300,\n",
       " 'tol': 0.0001,\n",
       " 'precompute_distances': 'auto',\n",
       " 'n_init': 10,\n",
       " 'verbose': 0,\n",
       " 'random_state': 0,\n",
       " 'copy_x': True,\n",
       " 'n_jobs': None,\n",
       " 'algorithm': 'auto',\n",
       " 'cluster_centers_': array([[5.52447268e-01, 8.56205591e-02, 5.66496577e+00],\n",
       "        [5.80602535e-01, 3.41874189e-02, 1.28797241e+02],\n",
       "        [4.99694480e-01, 5.92570849e-02, 2.87097561e+02],\n",
       "        [5.12968928e-01, 8.38890156e-02, 8.94436836e+00],\n",
       "        [5.67216789e-01, 7.08985731e-02, 5.15297901e+01],\n",
       "        [4.61042685e-01, 8.66166964e-02, 2.37702128e+02],\n",
       "        [5.07190451e-01, 4.32180708e-02, 1.96441176e+02],\n",
       "        [4.62788302e-01, 7.49477293e-02, 4.63333333e+02],\n",
       "        [5.39529241e-01, 1.05224868e-01, 1.31840719e+01],\n",
       "        [6.04200650e-01, 2.92826828e-02, 9.85359291e+01],\n",
       "        [5.28405638e-01, 9.28444491e-02, 6.70447938e+00],\n",
       "        [5.76589447e-01, 2.60645159e-02, 1.62739362e+02],\n",
       "        [5.84069060e-01, 6.81808297e-02, 2.18102134e+01],\n",
       "        [6.19553261e-01, 4.78408312e-02, 7.19705833e+01],\n",
       "        [5.95036933e-01, 6.51436710e-02, 4.35797601e+00],\n",
       "        [4.43419732e-01, 8.21447866e-02, 3.70666667e+02],\n",
       "        [5.58420649e-01, 8.37413375e-02, 5.80666667e+02],\n",
       "        [5.15651351e-01, 9.10921587e-02, 7.74857625e+00],\n",
       "        [5.15336183e-01, 8.23242552e-02, 1.04837112e+01],\n",
       "        [5.91223396e-01, 4.23321403e-02, 3.50523598e+01]]),\n",
       " 'labels_': array([ 3,  0, 14, ...,  3, 17, 10]),\n",
       " 'inertia_': 128939.22280179372,\n",
       " 'n_iter_': 14}"
      ]
     },
     "execution_count": 8,
     "metadata": {},
     "output_type": "execute_result"
    }
   ],
   "source": [
    "kmeans.__dict__ #The inertia_ attribute gives a measure of how 'well-fitting' the clusters are"
   ]
  },
  {
   "cell_type": "code",
   "execution_count": 9,
   "metadata": {},
   "outputs": [
    {
     "data": {
      "text/plain": [
       "array([ 3,  0, 14, ...,  3, 17, 10])"
      ]
     },
     "execution_count": 9,
     "metadata": {},
     "output_type": "execute_result"
    }
   ],
   "source": [
    "#kmeans.labels_.shape The labels_ attribute tells us which cluster each data point falls into\n",
    "kmeans.labels_"
   ]
  },
  {
   "cell_type": "code",
   "execution_count": null,
   "metadata": {},
   "outputs": [],
   "source": []
  },
  {
   "cell_type": "code",
   "execution_count": 10,
   "metadata": {},
   "outputs": [
    {
     "data": {
      "text/plain": [
       "array([[ 3.67205543e-01,  1.48268398e-01,  9.64000000e+00],\n",
       "       [ 5.46511628e-01,  1.15728716e-01,  5.84905660e+00],\n",
       "       [ 7.00000000e-01,  4.72027972e-03,  4.07272727e+00],\n",
       "       ...,\n",
       "       [ 5.22448980e-01, -1.23737374e-02,  8.39393939e+00],\n",
       "       [ 5.84795322e-01,  3.58823529e-01,  7.29629630e+00],\n",
       "       [ 4.06060606e-01,  2.66243386e-01,  6.87500000e+00]])"
      ]
     },
     "execution_count": 10,
     "metadata": {},
     "output_type": "execute_result"
    }
   ],
   "source": [
    "#kmeans.cluster_centers_\n",
    "data"
   ]
  },
  {
   "cell_type": "code",
   "execution_count": 16,
   "metadata": {},
   "outputs": [],
   "source": [
    "#Judge the optimal number of clusters to use for the k-means algorithm by the elbow method\n",
    "#Determine which value of number of clusters minimises the cost function\n",
    "\n",
    "def get_optimal_k(a,b): #Determine cost function(i.e. inertia_ value) for clusters ranging from 2 to 10\n",
    "    inertia_values = []\n",
    "    for x in range(a,b+1):\n",
    "        kmeans = KMeans(n_clusters=x, random_state=0).fit(data) #Train model with specified number of clusters\n",
    "        inertia_values.append((x,kmeans.inertia_))\n",
    "    return inertia_values\n",
    "        \n",
    "        "
   ]
  },
  {
   "cell_type": "code",
   "execution_count": 18,
   "metadata": {},
   "outputs": [],
   "source": []
  },
  {
   "cell_type": "code",
   "execution_count": 50,
   "metadata": {},
   "outputs": [],
   "source": [
    "cluster_wss = [] #To collect values for different number of clusters"
   ]
  },
  {
   "cell_type": "code",
   "execution_count": 33,
   "metadata": {},
   "outputs": [],
   "source": [
    "inertia_values = get_optimal_k(2,20)"
   ]
  },
  {
   "cell_type": "code",
   "execution_count": 35,
   "metadata": {},
   "outputs": [],
   "source": [
    "\n",
    "vals = sorted(inertia_values,key = lambda x: x[1]) #We can see that the inertia_ attribute values are constantly decreasing."
   ]
  },
  {
   "cell_type": "code",
   "execution_count": 51,
   "metadata": {},
   "outputs": [
    {
     "data": {
      "text/plain": [
       "[(20, 128939.22280179372),\n",
       " (19, 138560.09675727657),\n",
       " (18, 152461.66433840644),\n",
       " (17, 167489.26883002938),\n",
       " (16, 189411.65031604908),\n",
       " (15, 211272.85382526423),\n",
       " (14, 237427.7160558258),\n",
       " (13, 268807.13609644014),\n",
       " (12, 323907.7410623393),\n",
       " (11, 381932.54171513574),\n",
       " (10, 450597.1663957206),\n",
       " (9, 532281.1232177878),\n",
       " (8, 658697.6613983992),\n",
       " (7, 806777.858589231),\n",
       " (6, 1059542.2455119295),\n",
       " (5, 1490687.539602427),\n",
       " (4, 1994116.9681079555),\n",
       " (3, 2731534.312477865),\n",
       " (2, 4615719.627191159)]"
      ]
     },
     "execution_count": 51,
     "metadata": {},
     "output_type": "execute_result"
    }
   ],
   "source": [
    "cluster_wss.extend(vals)\n",
    "cluster_wss"
   ]
  },
  {
   "cell_type": "code",
   "execution_count": 52,
   "metadata": {},
   "outputs": [],
   "source": [
    "#Plot a line graph to see variation\n",
    "cluster_wss = [(x,y/x) for (x,y) in cluster_wss]\n",
    "num_of_clusters = [x for (x,y) in cluster_wss]\n",
    "average_wss =[y for (x,y) in cluster_wss]\n"
   ]
  },
  {
   "cell_type": "code",
   "execution_count": 54,
   "metadata": {},
   "outputs": [
    {
     "data": {
      "text/plain": [
       "[<matplotlib.lines.Line2D at 0x1ca43f63780>]"
      ]
     },
     "execution_count": 54,
     "metadata": {},
     "output_type": "execute_result"
    },
    {
     "data": {
      "image/png": "[encoded data removed]",
      "text/plain": [
       "<Figure size 432x288 with 1 Axes>"
      ]
     },
     "metadata": {
      "needs_background": "light"
     },
     "output_type": "display_data"
    }
   ],
   "source": [
    "plt.plot(num_of_clusters,average_wss)\n",
    "#By the elbow point method of validation of clusters, 6 appears to be the ideal number of clusters to use. "
   ]
  },
  {
   "cell_type": "code",
   "execution_count": 57,
   "metadata": {
    "collapsed": true
   },
   "outputs": [
    {
     "data": {
      "text/plain": [
       "[(20, 6446.961140089686),\n",
       " (19, 7292.636671435609),\n",
       " (18, 8470.092463244802),\n",
       " (17, 9852.309931178199),\n",
       " (16, 11838.228144753068),\n",
       " (15, 14084.856921684282),\n",
       " (14, 16959.122575416128),\n",
       " (13, 20677.472007418473),\n",
       " (12, 26992.31175519494),\n",
       " (11, 34721.14015592143),\n",
       " (10, 45059.71663957206),\n",
       " (9, 59142.34702419865),\n",
       " (8, 82337.2076747999),\n",
       " (7, 115253.97979846157),\n",
       " (6, 176590.37425198825),\n",
       " (5, 298137.5079204854),\n",
       " (4, 498529.2420269889),\n",
       " (3, 910511.4374926216),\n",
       " (2, 2307859.8135955795)]"
      ]
     },
     "execution_count": 57,
     "metadata": {},
     "output_type": "execute_result"
    }
   ],
   "source": [
    "sorted(cluster_wss,key = lambda x:x[1])"
   ]
  },
  {
   "cell_type": "code",
   "execution_count": 58,
   "metadata": {},
   "outputs": [],
   "source": [
    "inertia_values = get_optimal_k(21,30)"
   ]
  },
  {
   "cell_type": "code",
   "execution_count": 61,
   "metadata": {},
   "outputs": [],
   "source": [
    "cluster_wss2 = sorted(inertia_values,key = lambda x: x[1])"
   ]
  },
  {
   "cell_type": "code",
   "execution_count": 95,
   "metadata": {},
   "outputs": [],
   "source": [
    "cluster_wss2 = [(x,y/x) for (x,y) in cluster_wss2]\n",
    "num_of_clusters2 = [x for (x,y) in cluster_wss2]\n",
    "average_wss2 =[y for (x,y) in cluster_wss2]\n"
   ]
  },
  {
   "cell_type": "code",
   "execution_count": 96,
   "metadata": {},
   "outputs": [
    {
     "data": {
      "text/plain": [
       "[<matplotlib.lines.Line2D at 0x1ca43ef7550>]"
      ]
     },
     "execution_count": 96,
     "metadata": {},
     "output_type": "execute_result"
    },
    {
     "data": {
      "image/png": "[encoded data removed]",
      "text/plain": [
       "<Figure size 432x288 with 1 Axes>"
      ]
     },
     "metadata": {
      "needs_background": "light"
     },
     "output_type": "display_data"
    }
   ],
   "source": [
    "plt.plot(num_of_clusters2,average_wss2) #From this plot for number of clusters ranging from 20 to 30, we dont see any\n",
    "#distinct 'elbow point' i.e. a point at which rate of change in average intra-cluster distance wrt cluster number is noticeably \n",
    "#different from the neighbouring points. Thus, 6 seems to be the correct choice. "
   ]
  },
  {
   "cell_type": "code",
   "execution_count": 66,
   "metadata": {},
   "outputs": [],
   "source": [
    "#Building our final K-Means clustering model for song level clustering, taking number of clusters to be 6:\n",
    "kmeans_song_level_final = KMeans(n_clusters=6, random_state=0).fit(data)"
   ]
  },
  {
   "cell_type": "code",
   "execution_count": 68,
   "metadata": {},
   "outputs": [],
   "source": [
    "song_cluster_label = kmeans_song_level_final.labels_"
   ]
  },
  {
   "cell_type": "code",
   "execution_count": 74,
   "metadata": {},
   "outputs": [],
   "source": [
    "freq_count = np.bincount(song_cluster_label)"
   ]
  },
  {
   "cell_type": "code",
   "execution_count": 75,
   "metadata": {},
   "outputs": [
    {
     "data": {
      "text/plain": [
       "array([143691,    329,     14,    134,    462,  74226], dtype=int64)"
      ]
     },
     "execution_count": 75,
     "metadata": {},
     "output_type": "execute_result"
    }
   ],
   "source": [
    "freq_count #Very unevenly distributed points among the clusters"
   ]
  },
  {
   "cell_type": "code",
   "execution_count": 85,
   "metadata": {},
   "outputs": [
    {
     "name": "stderr",
     "output_type": "stream",
     "text": [
      "C:\\Users\\Mudit\\Anaconda3\\envs\\tensorflow_gpuenv\\lib\\site-packages\\ipykernel_launcher.py:2: FutureWarning: Method .as_matrix will be removed in a future version. Use .values instead.\n",
      "  \n"
     ]
    }
   ],
   "source": [
    "#Iteration 2: Taking only polarity and type-token ratio to build the clusters\n",
    "data_2 = df.as_matrix(columns = df.columns[5:7]) #Take the last three columns (all contin. numeric values) for building clusters\n"
   ]
  },
  {
   "cell_type": "code",
   "execution_count": 88,
   "metadata": {},
   "outputs": [],
   "source": [
    "cluster_data_2 = []\n"
   ]
  },
  {
   "cell_type": "code",
   "execution_count": 89,
   "metadata": {},
   "outputs": [],
   "source": [
    "inertia_values_2 = get_optimal_k(2,20)"
   ]
  },
  {
   "cell_type": "code",
   "execution_count": 92,
   "metadata": {},
   "outputs": [],
   "source": [
    "cluster_wss_new = sorted(inertia_values_2,key = lambda x:x[1])"
   ]
  },
  {
   "cell_type": "code",
   "execution_count": 93,
   "metadata": {},
   "outputs": [],
   "source": [
    "cluster_wss_new = [(x,y/x) for (x,y) in cluster_wss_new]\n",
    "num_of_clusters_new = [x for (x,y) in cluster_wss_new]\n",
    "average_wss_new =[y for (x,y) in cluster_wss_new]\n"
   ]
  },
  {
   "cell_type": "code",
   "execution_count": 94,
   "metadata": {},
   "outputs": [
    {
     "data": {
      "text/plain": [
       "[<matplotlib.lines.Line2D at 0x1ca4ea1f550>]"
      ]
     },
     "execution_count": 94,
     "metadata": {},
     "output_type": "execute_result"
    },
    {
     "data": {
      "image/png": "[encoded data removed]",
      "text/plain": [
       "<Figure size 432x288 with 1 Axes>"
      ]
     },
     "metadata": {
      "needs_background": "light"
     },
     "output_type": "display_data"
    }
   ],
   "source": [
    "plt.plot(num_of_clusters_new,average_wss_new)"
   ]
  },
  {
   "cell_type": "code",
   "execution_count": 97,
   "metadata": {},
   "outputs": [
    {
     "data": {
      "text/plain": [
       "[<matplotlib.lines.Line2D at 0x1ca4e6be898>]"
      ]
     },
     "execution_count": 97,
     "metadata": {},
     "output_type": "execute_result"
    },
    {
     "data": {
      "image/png": "[encoded data removed]",
      "text/plain": [
       "<Figure size 432x288 with 1 Axes>"
      ]
     },
     "metadata": {
      "needs_background": "light"
     },
     "output_type": "display_data"
    }
   ],
   "source": [
    "plt.plot(num_of_clusters,average_wss)"
   ]
  },
  {
   "cell_type": "code",
   "execution_count": 99,
   "metadata": {},
   "outputs": [
    {
     "data": {
      "text/plain": [
       "[(20, 6446.961140089686),\n",
       " (19, 7292.636671435609),\n",
       " (18, 8470.092463244802),\n",
       " (17, 9852.309931178199),\n",
       " (16, 11838.228144753068),\n",
       " (15, 14084.856921684282),\n",
       " (14, 16959.122575416128),\n",
       " (13, 20677.472007418473),\n",
       " (12, 26992.31175519494),\n",
       " (11, 34721.14015592143),\n",
       " (10, 45059.71663957206),\n",
       " (9, 59142.34702419865),\n",
       " (8, 82337.2076747999),\n",
       " (7, 115253.97979846157),\n",
       " (6, 176590.37425198825),\n",
       " (5, 298137.5079204854),\n",
       " (4, 498529.2420269889),\n",
       " (3, 910511.4374926216),\n",
       " (2, 2307859.8135955795)]"
      ]
     },
     "execution_count": 99,
     "metadata": {},
     "output_type": "execute_result"
    }
   ],
   "source": [
    "cluster_wss"
   ]
  },
  {
   "cell_type": "code",
   "execution_count": null,
   "metadata": {},
   "outputs": [],
   "source": []
  },
  {
   "cell_type": "code",
   "execution_count": null,
   "metadata": {},
   "outputs": [],
   "source": []
  }
 ],
 "metadata": {
  "kernelspec": {
   "display_name": "Python 3",
   "language": "python",
   "name": "python3"
  },
  "language_info": {
   "codemirror_mode": {
    "name": "ipython",
    "version": 3
   },
   "file_extension": ".py",
   "mimetype": "text/x-python",
   "name": "python",
   "nbconvert_exporter": "python",
   "pygments_lexer": "ipython3",
   "version": "3.6.7"
  }
 },
 "nbformat": 4,
 "nbformat_minor": 2
}
