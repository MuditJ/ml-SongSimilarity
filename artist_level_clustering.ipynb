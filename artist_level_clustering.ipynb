{
 "cells": [
  {
   "cell_type": "code",
   "execution_count": 47,
   "metadata": {},
   "outputs": [],
   "source": [
    "import pandas as pd\n",
    "import matplotlib.pyplot as plt\n",
    "import csv,os,re\n",
    "import sklearn\n",
    "import numpy as np\n",
    "import pickle"
   ]
  },
  {
   "cell_type": "code",
   "execution_count": 48,
   "metadata": {},
   "outputs": [],
   "source": [
    "df = pd.read_csv(r'Data/lyrics_normalized.csv')"
   ]
  },
  {
   "cell_type": "code",
   "execution_count": 49,
   "metadata": {
    "collapsed": true
   },
   "outputs": [
    {
     "data": {
      "text/html": [
       "<div>\n",
       "<style scoped>\n",
       "    .dataframe tbody tr th:only-of-type {\n",
       "        vertical-align: middle;\n",
       "    }\n",
       "\n",
       "    .dataframe tbody tr th {\n",
       "        vertical-align: top;\n",
       "    }\n",
       "\n",
       "    .dataframe thead th {\n",
       "        text-align: right;\n",
       "    }\n",
       "</style>\n",
       "<table border=\"1\" class=\"dataframe\">\n",
       "  <thead>\n",
       "    <tr style=\"text-align: right;\">\n",
       "      <th></th>\n",
       "      <th>song</th>\n",
       "      <th>artist</th>\n",
       "      <th>genre</th>\n",
       "      <th>lyrics</th>\n",
       "      <th>Unique_Word_Count</th>\n",
       "      <th>Type-Token Ratio</th>\n",
       "      <th>Sentiment Polarity</th>\n",
       "      <th>Word Density</th>\n",
       "    </tr>\n",
       "  </thead>\n",
       "  <tbody>\n",
       "    <tr>\n",
       "      <th>0</th>\n",
       "      <td>ego-remix</td>\n",
       "      <td>beyonce-knowles</td>\n",
       "      <td>Pop</td>\n",
       "      <td>Oh baby, how you doing?. You know I'm gonna cu...</td>\n",
       "      <td>0.507937</td>\n",
       "      <td>0.367206</td>\n",
       "      <td>0.148268</td>\n",
       "      <td>0.752106</td>\n",
       "    </tr>\n",
       "    <tr>\n",
       "      <th>1</th>\n",
       "      <td>then-tell-me</td>\n",
       "      <td>beyonce-knowles</td>\n",
       "      <td>Pop</td>\n",
       "      <td>playin' everything so easy,. it's like you see...</td>\n",
       "      <td>0.565079</td>\n",
       "      <td>0.546512</td>\n",
       "      <td>0.115729</td>\n",
       "      <td>0.864813</td>\n",
       "    </tr>\n",
       "    <tr>\n",
       "      <th>2</th>\n",
       "      <td>honesty</td>\n",
       "      <td>beyonce-knowles</td>\n",
       "      <td>Pop</td>\n",
       "      <td>If you search. For tenderness. It isn't hard t...</td>\n",
       "      <td>0.634921</td>\n",
       "      <td>0.700000</td>\n",
       "      <td>0.004720</td>\n",
       "      <td>0.917624</td>\n",
       "    </tr>\n",
       "    <tr>\n",
       "      <th>3</th>\n",
       "      <td>you-are-my-rock</td>\n",
       "      <td>beyonce-knowles</td>\n",
       "      <td>Pop</td>\n",
       "      <td>Oh oh oh I, oh oh oh I. [Verse 1:]. If I wrote...</td>\n",
       "      <td>0.526984</td>\n",
       "      <td>0.293103</td>\n",
       "      <td>0.407280</td>\n",
       "      <td>0.830936</td>\n",
       "    </tr>\n",
       "    <tr>\n",
       "      <th>4</th>\n",
       "      <td>black-culture</td>\n",
       "      <td>beyonce-knowles</td>\n",
       "      <td>Pop</td>\n",
       "      <td>Party the people, the people the party it's po...</td>\n",
       "      <td>0.819048</td>\n",
       "      <td>0.195513</td>\n",
       "      <td>-0.170833</td>\n",
       "      <td>0.728790</td>\n",
       "    </tr>\n",
       "    <tr>\n",
       "      <th>5</th>\n",
       "      <td>all-i-could-do-was-cry</td>\n",
       "      <td>beyonce-knowles</td>\n",
       "      <td>Pop</td>\n",
       "      <td>I heard. Church bells ringing. I heard. A choi...</td>\n",
       "      <td>0.768254</td>\n",
       "      <td>0.534722</td>\n",
       "      <td>0.336111</td>\n",
       "      <td>0.933059</td>\n",
       "    </tr>\n",
       "    <tr>\n",
       "      <th>6</th>\n",
       "      <td>once-in-a-lifetime</td>\n",
       "      <td>beyonce-knowles</td>\n",
       "      <td>Pop</td>\n",
       "      <td>This is just another day that I would spend. W...</td>\n",
       "      <td>0.622222</td>\n",
       "      <td>0.416949</td>\n",
       "      <td>0.231081</td>\n",
       "      <td>0.826878</td>\n",
       "    </tr>\n",
       "    <tr>\n",
       "      <th>7</th>\n",
       "      <td>waiting</td>\n",
       "      <td>beyonce-knowles</td>\n",
       "      <td>Pop</td>\n",
       "      <td>Waiting, waiting, waiting, waiting. Waiting, w...</td>\n",
       "      <td>0.619048</td>\n",
       "      <td>0.321244</td>\n",
       "      <td>0.240722</td>\n",
       "      <td>0.850002</td>\n",
       "    </tr>\n",
       "    <tr>\n",
       "      <th>8</th>\n",
       "      <td>slow-love</td>\n",
       "      <td>beyonce-knowles</td>\n",
       "      <td>Pop</td>\n",
       "      <td>[Verse 1:]. I read all of the magazines. while...</td>\n",
       "      <td>0.549206</td>\n",
       "      <td>0.331818</td>\n",
       "      <td>0.122468</td>\n",
       "      <td>0.834955</td>\n",
       "    </tr>\n",
       "    <tr>\n",
       "      <th>9</th>\n",
       "      <td>why-don-t-you-love-me</td>\n",
       "      <td>beyonce-knowles</td>\n",
       "      <td>Pop</td>\n",
       "      <td>N-n-now, honey. You better sit down and look a...</td>\n",
       "      <td>0.590476</td>\n",
       "      <td>0.390029</td>\n",
       "      <td>0.278853</td>\n",
       "      <td>0.793906</td>\n",
       "    </tr>\n",
       "    <tr>\n",
       "      <th>10</th>\n",
       "      <td>save-the-hero</td>\n",
       "      <td>beyonce-knowles</td>\n",
       "      <td>Pop</td>\n",
       "      <td>I lay alone awake at night. Sorrow fills my ey...</td>\n",
       "      <td>0.650794</td>\n",
       "      <td>0.473029</td>\n",
       "      <td>-0.022917</td>\n",
       "      <td>0.839089</td>\n",
       "    </tr>\n",
       "    <tr>\n",
       "      <th>11</th>\n",
       "      <td>telephone</td>\n",
       "      <td>beyonce-knowles</td>\n",
       "      <td>Pop</td>\n",
       "      <td>Hello hello baby you called. I can't hear a th...</td>\n",
       "      <td>0.514286</td>\n",
       "      <td>0.301923</td>\n",
       "      <td>-0.016431</td>\n",
       "      <td>0.844827</td>\n",
       "    </tr>\n",
       "    <tr>\n",
       "      <th>12</th>\n",
       "      <td>ice-cream-truck</td>\n",
       "      <td>beyonce-knowles</td>\n",
       "      <td>Pop</td>\n",
       "      <td>Feels like I'm losing my mind. Love is so hard...</td>\n",
       "      <td>0.631746</td>\n",
       "      <td>0.483871</td>\n",
       "      <td>0.053947</td>\n",
       "      <td>0.799165</td>\n",
       "    </tr>\n",
       "    <tr>\n",
       "      <th>13</th>\n",
       "      <td>no-broken-hearted-girl</td>\n",
       "      <td>beyonce-knowles</td>\n",
       "      <td>Pop</td>\n",
       "      <td>Youre everything I thought you never were. And...</td>\n",
       "      <td>0.501587</td>\n",
       "      <td>0.344017</td>\n",
       "      <td>-0.096104</td>\n",
       "      <td>0.843690</td>\n",
       "    </tr>\n",
       "    <tr>\n",
       "      <th>14</th>\n",
       "      <td>control</td>\n",
       "      <td>beyonce-knowles</td>\n",
       "      <td>Pop</td>\n",
       "      <td>I gotta give up. to quite the storm that rages...</td>\n",
       "      <td>0.676190</td>\n",
       "      <td>0.452991</td>\n",
       "      <td>0.035065</td>\n",
       "      <td>0.831357</td>\n",
       "    </tr>\n",
       "    <tr>\n",
       "      <th>15</th>\n",
       "      <td>i-m-alone-now</td>\n",
       "      <td>beyonce-knowles</td>\n",
       "      <td>Pop</td>\n",
       "      <td>It really hurts to say this yes it does. But a...</td>\n",
       "      <td>0.666667</td>\n",
       "      <td>0.422481</td>\n",
       "      <td>0.207639</td>\n",
       "      <td>0.807906</td>\n",
       "    </tr>\n",
       "    <tr>\n",
       "      <th>16</th>\n",
       "      <td>poison</td>\n",
       "      <td>beyonce-knowles</td>\n",
       "      <td>Pop</td>\n",
       "      <td>You're bad for me I clearly get it. I don't se...</td>\n",
       "      <td>0.434921</td>\n",
       "      <td>0.352713</td>\n",
       "      <td>0.024959</td>\n",
       "      <td>0.826701</td>\n",
       "    </tr>\n",
       "    <tr>\n",
       "      <th>17</th>\n",
       "      <td>world-wide-women</td>\n",
       "      <td>beyonce-knowles</td>\n",
       "      <td>Pop</td>\n",
       "      <td>[Chorus:]. I'm a world wide woman WWW you can ...</td>\n",
       "      <td>0.542857</td>\n",
       "      <td>0.315565</td>\n",
       "      <td>0.052196</td>\n",
       "      <td>0.801308</td>\n",
       "    </tr>\n",
       "    <tr>\n",
       "      <th>18</th>\n",
       "      <td>beautiful-liar</td>\n",
       "      <td>beyonce-knowles</td>\n",
       "      <td>Pop</td>\n",
       "      <td>Ay. Ay. Ay (Nobody likes to be played). Oh, Be...</td>\n",
       "      <td>0.565079</td>\n",
       "      <td>0.429878</td>\n",
       "      <td>0.259965</td>\n",
       "      <td>0.852173</td>\n",
       "    </tr>\n",
       "    <tr>\n",
       "      <th>19</th>\n",
       "      <td>beautiful-liar-spanish</td>\n",
       "      <td>beyonce-knowles</td>\n",
       "      <td>Pop</td>\n",
       "      <td>Ay! Ay!. (Nobody likes being played). Ay!. Oh!...</td>\n",
       "      <td>0.488889</td>\n",
       "      <td>0.494012</td>\n",
       "      <td>0.311222</td>\n",
       "      <td>0.841177</td>\n",
       "    </tr>\n",
       "    <tr>\n",
       "      <th>20</th>\n",
       "      <td>beautiful-liar-spanglish-version</td>\n",
       "      <td>beyonce-knowles</td>\n",
       "      <td>Pop</td>\n",
       "      <td>Ay! Ay!. (Nobody likes being played). Ay!. Oh!...</td>\n",
       "      <td>0.479365</td>\n",
       "      <td>0.500000</td>\n",
       "      <td>0.311222</td>\n",
       "      <td>0.840169</td>\n",
       "    </tr>\n",
       "    <tr>\n",
       "      <th>21</th>\n",
       "      <td>beutiful-liar-remix</td>\n",
       "      <td>beyonce-knowles</td>\n",
       "      <td>Pop</td>\n",
       "      <td>Ay! Ay!. (Nobody likes being played). Ay!. Oh!...</td>\n",
       "      <td>0.488889</td>\n",
       "      <td>0.494012</td>\n",
       "      <td>0.311222</td>\n",
       "      <td>0.841177</td>\n",
       "    </tr>\n",
       "    <tr>\n",
       "      <th>22</th>\n",
       "      <td>he-still-loves-me-f-choir-from-fighting-tempta...</td>\n",
       "      <td>beyonce-knowles</td>\n",
       "      <td>Pop</td>\n",
       "      <td>Took me a while but I'm finally here. So I jus...</td>\n",
       "      <td>0.561905</td>\n",
       "      <td>0.348039</td>\n",
       "      <td>0.269786</td>\n",
       "      <td>0.819910</td>\n",
       "    </tr>\n",
       "    <tr>\n",
       "      <th>23</th>\n",
       "      <td>irreplable</td>\n",
       "      <td>beyonce-knowles</td>\n",
       "      <td>Pop</td>\n",
       "      <td>To the left, to the left. To the left, to the ...</td>\n",
       "      <td>0.482540</td>\n",
       "      <td>0.313321</td>\n",
       "      <td>0.028226</td>\n",
       "      <td>0.783026</td>\n",
       "    </tr>\n",
       "    <tr>\n",
       "      <th>24</th>\n",
       "      <td>the-first-day</td>\n",
       "      <td>beyonce-knowles</td>\n",
       "      <td>Pop</td>\n",
       "      <td>Remember the first day when I saw your face. r...</td>\n",
       "      <td>0.619048</td>\n",
       "      <td>0.253579</td>\n",
       "      <td>0.376255</td>\n",
       "      <td>0.792433</td>\n",
       "    </tr>\n",
       "    <tr>\n",
       "      <th>25</th>\n",
       "      <td>my-man</td>\n",
       "      <td>beyonce-knowles</td>\n",
       "      <td>Pop</td>\n",
       "      <td>you say that he's wrong. you say that he's no ...</td>\n",
       "      <td>0.641270</td>\n",
       "      <td>0.273364</td>\n",
       "      <td>0.322780</td>\n",
       "      <td>0.797396</td>\n",
       "    </tr>\n",
       "    <tr>\n",
       "      <th>26</th>\n",
       "      <td>what-s-it-gonna-be</td>\n",
       "      <td>beyonce-knowles</td>\n",
       "      <td>Pop</td>\n",
       "      <td>1st verse:. hey you what's the deal, its poppi...</td>\n",
       "      <td>0.488889</td>\n",
       "      <td>0.617978</td>\n",
       "      <td>0.270068</td>\n",
       "      <td>0.543783</td>\n",
       "    </tr>\n",
       "    <tr>\n",
       "      <th>27</th>\n",
       "      <td>if</td>\n",
       "      <td>beyonce-knowles</td>\n",
       "      <td>Pop</td>\n",
       "      <td>He is always laughin' and flirting with me. An...</td>\n",
       "      <td>0.609524</td>\n",
       "      <td>0.325641</td>\n",
       "      <td>0.159429</td>\n",
       "      <td>0.782210</td>\n",
       "    </tr>\n",
       "    <tr>\n",
       "      <th>28</th>\n",
       "      <td>a-girl-with-no-name</td>\n",
       "      <td>beyonce-knowles</td>\n",
       "      <td>Pop</td>\n",
       "      <td>You don't care about me at all. You treat me l...</td>\n",
       "      <td>0.717460</td>\n",
       "      <td>0.415179</td>\n",
       "      <td>0.014931</td>\n",
       "      <td>0.851123</td>\n",
       "    </tr>\n",
       "    <tr>\n",
       "      <th>29</th>\n",
       "      <td>flaws-all</td>\n",
       "      <td>beyonce-knowles</td>\n",
       "      <td>Pop</td>\n",
       "      <td>I'm a train wreck in the morning. I'm a bitch ...</td>\n",
       "      <td>0.730159</td>\n",
       "      <td>0.385281</td>\n",
       "      <td>0.332738</td>\n",
       "      <td>0.829030</td>\n",
       "    </tr>\n",
       "  </tbody>\n",
       "</table>\n",
       "</div>"
      ],
      "text/plain": [
       "                                                 song           artist genre  \\\n",
       "0                                           ego-remix  beyonce-knowles   Pop   \n",
       "1                                        then-tell-me  beyonce-knowles   Pop   \n",
       "2                                             honesty  beyonce-knowles   Pop   \n",
       "3                                     you-are-my-rock  beyonce-knowles   Pop   \n",
       "4                                       black-culture  beyonce-knowles   Pop   \n",
       "5                              all-i-could-do-was-cry  beyonce-knowles   Pop   \n",
       "6                                  once-in-a-lifetime  beyonce-knowles   Pop   \n",
       "7                                             waiting  beyonce-knowles   Pop   \n",
       "8                                           slow-love  beyonce-knowles   Pop   \n",
       "9                               why-don-t-you-love-me  beyonce-knowles   Pop   \n",
       "10                                      save-the-hero  beyonce-knowles   Pop   \n",
       "11                                          telephone  beyonce-knowles   Pop   \n",
       "12                                    ice-cream-truck  beyonce-knowles   Pop   \n",
       "13                             no-broken-hearted-girl  beyonce-knowles   Pop   \n",
       "14                                            control  beyonce-knowles   Pop   \n",
       "15                                      i-m-alone-now  beyonce-knowles   Pop   \n",
       "16                                             poison  beyonce-knowles   Pop   \n",
       "17                                   world-wide-women  beyonce-knowles   Pop   \n",
       "18                                     beautiful-liar  beyonce-knowles   Pop   \n",
       "19                             beautiful-liar-spanish  beyonce-knowles   Pop   \n",
       "20                   beautiful-liar-spanglish-version  beyonce-knowles   Pop   \n",
       "21                                beutiful-liar-remix  beyonce-knowles   Pop   \n",
       "22  he-still-loves-me-f-choir-from-fighting-tempta...  beyonce-knowles   Pop   \n",
       "23                                         irreplable  beyonce-knowles   Pop   \n",
       "24                                      the-first-day  beyonce-knowles   Pop   \n",
       "25                                             my-man  beyonce-knowles   Pop   \n",
       "26                                 what-s-it-gonna-be  beyonce-knowles   Pop   \n",
       "27                                                 if  beyonce-knowles   Pop   \n",
       "28                                a-girl-with-no-name  beyonce-knowles   Pop   \n",
       "29                                          flaws-all  beyonce-knowles   Pop   \n",
       "\n",
       "                                               lyrics  Unique_Word_Count  \\\n",
       "0   Oh baby, how you doing?. You know I'm gonna cu...           0.507937   \n",
       "1   playin' everything so easy,. it's like you see...           0.565079   \n",
       "2   If you search. For tenderness. It isn't hard t...           0.634921   \n",
       "3   Oh oh oh I, oh oh oh I. [Verse 1:]. If I wrote...           0.526984   \n",
       "4   Party the people, the people the party it's po...           0.819048   \n",
       "5   I heard. Church bells ringing. I heard. A choi...           0.768254   \n",
       "6   This is just another day that I would spend. W...           0.622222   \n",
       "7   Waiting, waiting, waiting, waiting. Waiting, w...           0.619048   \n",
       "8   [Verse 1:]. I read all of the magazines. while...           0.549206   \n",
       "9   N-n-now, honey. You better sit down and look a...           0.590476   \n",
       "10  I lay alone awake at night. Sorrow fills my ey...           0.650794   \n",
       "11  Hello hello baby you called. I can't hear a th...           0.514286   \n",
       "12  Feels like I'm losing my mind. Love is so hard...           0.631746   \n",
       "13  Youre everything I thought you never were. And...           0.501587   \n",
       "14  I gotta give up. to quite the storm that rages...           0.676190   \n",
       "15  It really hurts to say this yes it does. But a...           0.666667   \n",
       "16  You're bad for me I clearly get it. I don't se...           0.434921   \n",
       "17  [Chorus:]. I'm a world wide woman WWW you can ...           0.542857   \n",
       "18  Ay. Ay. Ay (Nobody likes to be played). Oh, Be...           0.565079   \n",
       "19  Ay! Ay!. (Nobody likes being played). Ay!. Oh!...           0.488889   \n",
       "20  Ay! Ay!. (Nobody likes being played). Ay!. Oh!...           0.479365   \n",
       "21  Ay! Ay!. (Nobody likes being played). Ay!. Oh!...           0.488889   \n",
       "22  Took me a while but I'm finally here. So I jus...           0.561905   \n",
       "23  To the left, to the left. To the left, to the ...           0.482540   \n",
       "24  Remember the first day when I saw your face. r...           0.619048   \n",
       "25  you say that he's wrong. you say that he's no ...           0.641270   \n",
       "26  1st verse:. hey you what's the deal, its poppi...           0.488889   \n",
       "27  He is always laughin' and flirting with me. An...           0.609524   \n",
       "28  You don't care about me at all. You treat me l...           0.717460   \n",
       "29  I'm a train wreck in the morning. I'm a bitch ...           0.730159   \n",
       "\n",
       "    Type-Token Ratio  Sentiment Polarity  Word Density  \n",
       "0           0.367206            0.148268      0.752106  \n",
       "1           0.546512            0.115729      0.864813  \n",
       "2           0.700000            0.004720      0.917624  \n",
       "3           0.293103            0.407280      0.830936  \n",
       "4           0.195513           -0.170833      0.728790  \n",
       "5           0.534722            0.336111      0.933059  \n",
       "6           0.416949            0.231081      0.826878  \n",
       "7           0.321244            0.240722      0.850002  \n",
       "8           0.331818            0.122468      0.834955  \n",
       "9           0.390029            0.278853      0.793906  \n",
       "10          0.473029           -0.022917      0.839089  \n",
       "11          0.301923           -0.016431      0.844827  \n",
       "12          0.483871            0.053947      0.799165  \n",
       "13          0.344017           -0.096104      0.843690  \n",
       "14          0.452991            0.035065      0.831357  \n",
       "15          0.422481            0.207639      0.807906  \n",
       "16          0.352713            0.024959      0.826701  \n",
       "17          0.315565            0.052196      0.801308  \n",
       "18          0.429878            0.259965      0.852173  \n",
       "19          0.494012            0.311222      0.841177  \n",
       "20          0.500000            0.311222      0.840169  \n",
       "21          0.494012            0.311222      0.841177  \n",
       "22          0.348039            0.269786      0.819910  \n",
       "23          0.313321            0.028226      0.783026  \n",
       "24          0.253579            0.376255      0.792433  \n",
       "25          0.273364            0.322780      0.797396  \n",
       "26          0.617978            0.270068      0.543783  \n",
       "27          0.325641            0.159429      0.782210  \n",
       "28          0.415179            0.014931      0.851123  \n",
       "29          0.385281            0.332738      0.829030  "
      ]
     },
     "execution_count": 49,
     "metadata": {},
     "output_type": "execute_result"
    }
   ],
   "source": [
    "df.head(30)"
   ]
  },
  {
   "cell_type": "code",
   "execution_count": 50,
   "metadata": {},
   "outputs": [],
   "source": [
    "artist_polarity_group = df['Sentiment Polarity'].groupby(df['artist'])\n",
    "artist_ttr_group = df['Type-Token Ratio'].groupby(df['artist'])\n"
   ]
  },
  {
   "cell_type": "code",
   "execution_count": 51,
   "metadata": {},
   "outputs": [],
   "source": [
    "artist_polarity_mean = artist_polarity_group.describe()['mean']\n",
    "artist_ttr_mean = artist_ttr_group.describe()['mean']"
   ]
  },
  {
   "cell_type": "code",
   "execution_count": 9,
   "metadata": {},
   "outputs": [],
   "source": [
    "artist_mean_data = pd.concat([artist_polarity_mean,artist_ttr_mean],axis = 1)"
   ]
  },
  {
   "cell_type": "code",
   "execution_count": 10,
   "metadata": {},
   "outputs": [],
   "source": [
    "artist_mean_vals = artist_mean_data.values"
   ]
  },
  {
   "cell_type": "code",
   "execution_count": 11,
   "metadata": {},
   "outputs": [],
   "source": [
    "from sklearn.cluster import KMeans\n",
    "\n",
    "#Judge the optimal number of clusters to use for the k-means algorithm by the elbow method\n",
    "#Determine which value of number of clusters minimises the cost function\n",
    "\n",
    "def get_optimal_k(a,b,data): #Determine cost function(i.e. inertia_ value) for clusters ranging from 2 to 10\n",
    "    inertia_values = []\n",
    "    for x in range(a,b+1):\n",
    "        kmeans = KMeans(n_clusters=x, random_state=0).fit(data) #Train model with specified number of clusters\n",
    "        inertia_values.append((x,kmeans.inertia_))\n",
    "    return inertia_values"
   ]
  },
  {
   "cell_type": "code",
   "execution_count": 12,
   "metadata": {},
   "outputs": [],
   "source": [
    "clustering_data = []\n"
   ]
  },
  {
   "cell_type": "code",
   "execution_count": 33,
   "metadata": {},
   "outputs": [],
   "source": [
    "inertia_values = get_optimal_k(2,20,artist_mean_vals)"
   ]
  },
  {
   "cell_type": "code",
   "execution_count": 40,
   "metadata": {},
   "outputs": [],
   "source": [
    "\n",
    "sorted(inertia_values,key = lambda x: x[1])\n",
    "clustering_data.extend(inertia_values)"
   ]
  },
  {
   "cell_type": "code",
   "execution_count": 41,
   "metadata": {},
   "outputs": [],
   "source": [
    "clustering_data = [(x,y/x) for (x,y) in clustering_data]\n",
    "num_of_clusters = [x for (x,y) in clustering_data]\n",
    "average_wss =[y for (x,y) in clustering_data]\n"
   ]
  },
  {
   "cell_type": "code",
   "execution_count": 42,
   "metadata": {},
   "outputs": [
    {
     "data": {
      "text/plain": [
       "[<matplotlib.lines.Line2D at 0x1b40db5f7b8>]"
      ]
     },
     "execution_count": 42,
     "metadata": {},
     "output_type": "execute_result"
    },
    {
     "data": {
      "image/png": "[encoded data removed]",
      "text/plain": [
       "<Figure size 432x288 with 1 Axes>"
      ]
     },
     "metadata": {
      "needs_background": "light"
     },
     "output_type": "display_data"
    }
   ],
   "source": [
    "plt.plot(num_of_clusters,average_wss) #Elbow point curve suggest 5 is the optimal number of clusters"
   ]
  },
  {
   "cell_type": "code",
   "execution_count": 13,
   "metadata": {},
   "outputs": [],
   "source": [
    "kmeans_artist = KMeans(n_clusters = 5, random_state = 0).fit(artist_mean_vals)"
   ]
  },
  {
   "cell_type": "code",
   "execution_count": 14,
   "metadata": {},
   "outputs": [],
   "source": [
    "cluster_labels = kmeans_artist.labels_"
   ]
  },
  {
   "cell_type": "code",
   "execution_count": 15,
   "metadata": {},
   "outputs": [
    {
     "data": {
      "text/plain": [
       "array([1065,  897,  753, 1191, 1034], dtype=int64)"
      ]
     },
     "execution_count": 15,
     "metadata": {},
     "output_type": "execute_result"
    }
   ],
   "source": [
    "np.bincount(cluster_labels)"
   ]
  },
  {
   "cell_type": "code",
   "execution_count": 11,
   "metadata": {},
   "outputs": [
    {
     "data": {
      "text/plain": [
       "Index(['song', 'artist', 'genre', 'lyrics', 'Unique_Word_Count',\n",
       "       'Type-Token Ratio', 'Sentiment Polarity', 'Word Density'],\n",
       "      dtype='object')"
      ]
     },
     "execution_count": 11,
     "metadata": {},
     "output_type": "execute_result"
    }
   ],
   "source": [
    "df.columns"
   ]
  },
  {
   "cell_type": "markdown",
   "metadata": {},
   "source": [
    "APPLYING CLUSTERING ON ALL FOUR EXTRACTED CONTIN. NUMERIC FEATURES"
   ]
  },
  {
   "cell_type": "code",
   "execution_count": 52,
   "metadata": {},
   "outputs": [],
   "source": [
    "artist_word_count_group = df['Unique_Word_Count'].groupby(df['artist'])\n",
    "artist_word_density_group = df['Word Density'].groupby(df['artist'])"
   ]
  },
  {
   "cell_type": "code",
   "execution_count": 53,
   "metadata": {},
   "outputs": [],
   "source": [
    "artist_word_count_mean = artist_word_count_group.describe()['mean']\n",
    "artist_word_density_mean = artist_word_count_group.describe()['mean']"
   ]
  },
  {
   "cell_type": "code",
   "execution_count": 54,
   "metadata": {},
   "outputs": [],
   "source": [
    "artist_mean_data2 = pd.concat([artist_polarity_mean,artist_ttr_mean,artist_word_count_mean,artist_word_density_mean],axis = 1)"
   ]
  },
  {
   "cell_type": "code",
   "execution_count": 59,
   "metadata": {},
   "outputs": [],
   "source": [
    "artist_mean_array = artist_mean_data2.values"
   ]
  },
  {
   "cell_type": "code",
   "execution_count": 63,
   "metadata": {},
   "outputs": [],
   "source": [
    "pickle.dump(artist_mean_array,open('Pickled models/artist-mean-array','wb'))"
   ]
  },
  {
   "cell_type": "code",
   "execution_count": 69,
   "metadata": {},
   "outputs": [],
   "source": [
    "artist_list = list(artist_mean_data2.index)\n",
    "pickle.dump(artist_list,open('Pickled models/artist-list','wb'))"
   ]
  },
  {
   "cell_type": "code",
   "execution_count": 20,
   "metadata": {},
   "outputs": [],
   "source": [
    "artist_mean_values2 = artist_mean_data2.values\n"
   ]
  },
  {
   "cell_type": "code",
   "execution_count": 23,
   "metadata": {},
   "outputs": [],
   "source": [
    "inertia_values = get_optimal_k(2,20,artist_mean_values2)"
   ]
  },
  {
   "cell_type": "code",
   "execution_count": 24,
   "metadata": {},
   "outputs": [],
   "source": [
    "clustering_data_2 = []\n"
   ]
  },
  {
   "cell_type": "code",
   "execution_count": 25,
   "metadata": {},
   "outputs": [],
   "source": [
    "sorted(inertia_values,key = lambda x: x[1])\n",
    "clustering_data_2.extend(inertia_values)"
   ]
  },
  {
   "cell_type": "code",
   "execution_count": 26,
   "metadata": {
    "collapsed": true
   },
   "outputs": [
    {
     "data": {
      "text/plain": [
       "[(2, 128.35639629651405),\n",
       " (3, 96.1692667020254),\n",
       " (4, 75.5176265685539),\n",
       " (5, 66.86792537833428),\n",
       " (6, 59.30528936802079),\n",
       " (7, 52.64588796612266),\n",
       " (8, 48.796696390248485),\n",
       " (9, 45.637406037669635),\n",
       " (10, 42.98007294189055),\n",
       " (11, 40.54394186738157),\n",
       " (12, 38.53990967619228),\n",
       " (13, 36.81734060372189),\n",
       " (14, 35.406174322967814),\n",
       " (15, 34.07377778026918),\n",
       " (16, 32.85449760145183),\n",
       " (17, 31.64675889763098),\n",
       " (18, 30.506592976766356),\n",
       " (19, 29.716269182638666),\n",
       " (20, 28.597996968267744)]"
      ]
     },
     "execution_count": 26,
     "metadata": {},
     "output_type": "execute_result"
    }
   ],
   "source": [
    "clustering_data_2"
   ]
  },
  {
   "cell_type": "code",
   "execution_count": 27,
   "metadata": {},
   "outputs": [],
   "source": [
    "clustering_data_2 = [(x,y/x) for (x,y) in clustering_data_2]\n",
    "num_of_clusters = [x for (x,y) in clustering_data_2]\n",
    "average_wss =[y for (x,y) in clustering_data_2]"
   ]
  },
  {
   "cell_type": "code",
   "execution_count": 28,
   "metadata": {},
   "outputs": [
    {
     "data": {
      "text/plain": [
       "[<matplotlib.lines.Line2D at 0x1f690927048>]"
      ]
     },
     "execution_count": 28,
     "metadata": {},
     "output_type": "execute_result"
    },
    {
     "data": {
      "image/png": "[encoded data removed]",
      "text/plain": [
       "<Figure size 432x288 with 1 Axes>"
      ]
     },
     "metadata": {},
     "output_type": "display_data"
    }
   ],
   "source": [
    "plt.plot(num_of_clusters,average_wss)"
   ]
  },
  {
   "cell_type": "code",
   "execution_count": 36,
   "metadata": {},
   "outputs": [],
   "source": [
    "kmeans_artist = KMeans(n_clusters = 6, random_state = 0).fit(artist_mean_values2)"
   ]
  },
  {
   "cell_type": "code",
   "execution_count": 37,
   "metadata": {},
   "outputs": [],
   "source": [
    "cluster_labels = kmeans_artist.labels_"
   ]
  },
  {
   "cell_type": "code",
   "execution_count": 38,
   "metadata": {},
   "outputs": [
    {
     "data": {
      "text/plain": [
       "array([ 679,  442, 1107, 1038, 1340,  334], dtype=int64)"
      ]
     },
     "execution_count": 38,
     "metadata": {},
     "output_type": "execute_result"
    }
   ],
   "source": [
    "np.bincount(cluster_labels)"
   ]
  },
  {
   "cell_type": "code",
   "execution_count": 2,
   "metadata": {},
   "outputs": [],
   "source": [
    "#Pickling the model for use in the final step"
   ]
  },
  {
   "cell_type": "code",
   "execution_count": 3,
   "metadata": {},
   "outputs": [],
   "source": [
    "filename = 'artist-level-clustering-model'"
   ]
  },
  {
   "cell_type": "code",
   "execution_count": null,
   "metadata": {},
   "outputs": [],
   "source": []
  },
  {
   "cell_type": "code",
   "execution_count": null,
   "metadata": {},
   "outputs": [],
   "source": []
  },
  {
   "cell_type": "code",
   "execution_count": 16,
   "metadata": {},
   "outputs": [],
   "source": [
    "artist_wc_group = df['Unique_Word_Count'].groupby(df['artist'])\n",
    "artist_wd_group = df['Word Density'].groupby(df['artist'])"
   ]
  },
  {
   "cell_type": "code",
   "execution_count": 17,
   "metadata": {},
   "outputs": [],
   "source": [
    "artist_wc_mean = artist_wc_group.describe()['mean']\n",
    "artist_wd_mean = artist_wd_group.describe()['mean']"
   ]
  },
  {
   "cell_type": "code",
   "execution_count": 18,
   "metadata": {},
   "outputs": [],
   "source": [
    "artist_means = pd.concat([artist_polarity_mean,artist_ttr_mean,artist_wc_mean,artist_wd_mean],axis = 1)"
   ]
  },
  {
   "cell_type": "code",
   "execution_count": 20,
   "metadata": {},
   "outputs": [],
   "source": [
    "artist_means = artist_means.values"
   ]
  },
  {
   "cell_type": "code",
   "execution_count": 21,
   "metadata": {},
   "outputs": [],
   "source": [
    "inertia_values = get_optimal_k(2,20,artist_means)"
   ]
  },
  {
   "cell_type": "code",
   "execution_count": 22,
   "metadata": {},
   "outputs": [],
   "source": [
    "clustering_data_2 = []\n"
   ]
  },
  {
   "cell_type": "code",
   "execution_count": 23,
   "metadata": {
    "collapsed": true
   },
   "outputs": [
    {
     "data": {
      "text/plain": [
       "[(20, 27.370555424595377),\n",
       " (19, 28.054450849999505),\n",
       " (18, 28.774785891844566),\n",
       " (17, 29.631991106317443),\n",
       " (16, 30.622125992026643),\n",
       " (15, 31.60194685083504),\n",
       " (14, 32.68869216368666),\n",
       " (13, 33.99002084056379),\n",
       " (12, 35.40993118148283),\n",
       " (11, 36.92376668820025),\n",
       " (10, 38.662783814597155),\n",
       " (9, 40.90430079533368),\n",
       " (8, 43.47518414612281),\n",
       " (7, 46.49009652533485),\n",
       " (6, 50.567259685754244),\n",
       " (5, 56.58275009396911),\n",
       " (4, 64.5435506041785),\n",
       " (3, 74.83864104551196),\n",
       " (2, 105.81688522298043)]"
      ]
     },
     "execution_count": 23,
     "metadata": {},
     "output_type": "execute_result"
    }
   ],
   "source": [
    "sorted(inertia_values,key = lambda x:x[1])"
   ]
  },
  {
   "cell_type": "code",
   "execution_count": 24,
   "metadata": {},
   "outputs": [],
   "source": [
    "clustering_data_2.extend(inertia_values)"
   ]
  },
  {
   "cell_type": "code",
   "execution_count": 25,
   "metadata": {},
   "outputs": [],
   "source": [
    "clustering_data_2 = [(x,y/x) for (x,y) in clustering_data_2]\n",
    "num_of_clusters = [x for (x,y) in clustering_data_2]\n",
    "average_wss =[y for (x,y) in clustering_data_2]"
   ]
  },
  {
   "cell_type": "code",
   "execution_count": 26,
   "metadata": {},
   "outputs": [
    {
     "data": {
      "text/plain": [
       "[<matplotlib.lines.Line2D at 0x1d76839cf28>]"
      ]
     },
     "execution_count": 26,
     "metadata": {},
     "output_type": "execute_result"
    },
    {
     "data": {
      "image/png": "[encoded data removed]",
      "text/plain": [
       "<Figure size 432x288 with 1 Axes>"
      ]
     },
     "metadata": {
      "needs_background": "light"
     },
     "output_type": "display_data"
    }
   ],
   "source": [
    "plt.plot(num_of_clusters,average_wss)"
   ]
  },
  {
   "cell_type": "code",
   "execution_count": 37,
   "metadata": {},
   "outputs": [],
   "source": [
    "#K-means clustering with both 3 and 4 clusters:\n",
    "\n",
    "kmeans_artist_four = KMeans(n_clusters = 4, random_state = 0).fit(artist_means)"
   ]
  },
  {
   "cell_type": "code",
   "execution_count": 43,
   "metadata": {},
   "outputs": [],
   "source": [
    "cluster_labels = kmeans_artist_four.labels_"
   ]
  },
  {
   "cell_type": "code",
   "execution_count": 44,
   "metadata": {},
   "outputs": [
    {
     "data": {
      "text/plain": [
       "array([ 396, 1905, 1469, 1170], dtype=int64)"
      ]
     },
     "execution_count": 44,
     "metadata": {},
     "output_type": "execute_result"
    }
   ],
   "source": [
    "np.bincount(cluster_labels)"
   ]
  },
  {
   "cell_type": "code",
   "execution_count": 30,
   "metadata": {},
   "outputs": [],
   "source": [
    "#With 3:"
   ]
  },
  {
   "cell_type": "code",
   "execution_count": 40,
   "metadata": {},
   "outputs": [],
   "source": [
    "kmeans_artist_three = KMeans(n_clusters = 3, random_state = 0).fit(artist_means)"
   ]
  },
  {
   "cell_type": "code",
   "execution_count": 41,
   "metadata": {},
   "outputs": [],
   "source": [
    "cluster_labels = kmeans_artist.labels_"
   ]
  },
  {
   "cell_type": "code",
   "execution_count": 42,
   "metadata": {},
   "outputs": [
    {
     "data": {
      "text/plain": [
       "array([2746, 1701,  493], dtype=int64)"
      ]
     },
     "execution_count": 42,
     "metadata": {},
     "output_type": "execute_result"
    }
   ],
   "source": [
    "np.bincount(cluster_labels)"
   ]
  },
  {
   "cell_type": "markdown",
   "metadata": {},
   "source": [
    "Taking four as the number of clusters seems to produce more 'well-rounded' clusters."
   ]
  },
  {
   "cell_type": "code",
   "execution_count": 45,
   "metadata": {},
   "outputs": [],
   "source": [
    "pickle.dump(kmeans_artist_four, open(filename, 'wb'))"
   ]
  },
  {
   "cell_type": "code",
   "execution_count": null,
   "metadata": {},
   "outputs": [],
   "source": []
  },
  {
   "cell_type": "code",
   "execution_count": null,
   "metadata": {},
   "outputs": [],
   "source": []
  }
 ],
 "metadata": {
  "kernelspec": {
   "display_name": "Python 3",
   "language": "python",
   "name": "python3"
  },
  "language_info": {
   "codemirror_mode": {
    "name": "ipython",
    "version": 3
   },
   "file_extension": ".py",
   "mimetype": "text/x-python",
   "name": "python",
   "nbconvert_exporter": "python",
   "pygments_lexer": "ipython3",
   "version": "3.6.5"
  }
 },
 "nbformat": 4,
 "nbformat_minor": 2
}
