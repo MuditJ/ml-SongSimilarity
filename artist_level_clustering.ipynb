{
 "cells": [
  {
   "cell_type": "code",
   "execution_count": 1,
   "metadata": {},
   "outputs": [],
   "source": [
    "import pandas as pd\n",
    "import matplotlib.pyplot as plt\n",
    "import csv,os,re\n",
    "import sklearn\n",
    "import numpy as np"
   ]
  },
  {
   "cell_type": "code",
   "execution_count": 2,
   "metadata": {},
   "outputs": [],
   "source": [
    "df = pd.read_csv(r'lyrics_extended.csv')"
   ]
  },
  {
   "cell_type": "code",
   "execution_count": 3,
   "metadata": {
    "collapsed": true
   },
   "outputs": [
    {
     "data": {
      "text/html": [
       "<div>\n",
       "<style scoped>\n",
       "    .dataframe tbody tr th:only-of-type {\n",
       "        vertical-align: middle;\n",
       "    }\n",
       "\n",
       "    .dataframe tbody tr th {\n",
       "        vertical-align: top;\n",
       "    }\n",
       "\n",
       "    .dataframe thead th {\n",
       "        text-align: right;\n",
       "    }\n",
       "</style>\n",
       "<table border=\"1\" class=\"dataframe\">\n",
       "  <thead>\n",
       "    <tr style=\"text-align: right;\">\n",
       "      <th></th>\n",
       "      <th>song</th>\n",
       "      <th>artist</th>\n",
       "      <th>genre</th>\n",
       "      <th>lyrics</th>\n",
       "      <th>Unique_Word_Count</th>\n",
       "      <th>Type-Token Ratio</th>\n",
       "      <th>Sentiment Polarity</th>\n",
       "      <th>Word Density</th>\n",
       "    </tr>\n",
       "  </thead>\n",
       "  <tbody>\n",
       "    <tr>\n",
       "      <th>0</th>\n",
       "      <td>ego-remix</td>\n",
       "      <td>beyonce-knowles</td>\n",
       "      <td>Pop</td>\n",
       "      <td>Oh baby, how you doing?. You know I'm gonna cu...</td>\n",
       "      <td>159</td>\n",
       "      <td>0.367206</td>\n",
       "      <td>0.148268</td>\n",
       "      <td>9.640000</td>\n",
       "    </tr>\n",
       "    <tr>\n",
       "      <th>1</th>\n",
       "      <td>then-tell-me</td>\n",
       "      <td>beyonce-knowles</td>\n",
       "      <td>Pop</td>\n",
       "      <td>playin' everything so easy,. it's like you see...</td>\n",
       "      <td>141</td>\n",
       "      <td>0.546512</td>\n",
       "      <td>0.115729</td>\n",
       "      <td>5.849057</td>\n",
       "    </tr>\n",
       "    <tr>\n",
       "      <th>2</th>\n",
       "      <td>honesty</td>\n",
       "      <td>beyonce-knowles</td>\n",
       "      <td>Pop</td>\n",
       "      <td>If you search. For tenderness. It isn't hard t...</td>\n",
       "      <td>119</td>\n",
       "      <td>0.700000</td>\n",
       "      <td>0.004720</td>\n",
       "      <td>4.072727</td>\n",
       "    </tr>\n",
       "    <tr>\n",
       "      <th>3</th>\n",
       "      <td>you-are-my-rock</td>\n",
       "      <td>beyonce-knowles</td>\n",
       "      <td>Pop</td>\n",
       "      <td>Oh oh oh I, oh oh oh I. [Verse 1:]. If I wrote...</td>\n",
       "      <td>153</td>\n",
       "      <td>0.293103</td>\n",
       "      <td>0.407280</td>\n",
       "      <td>6.988506</td>\n",
       "    </tr>\n",
       "    <tr>\n",
       "      <th>4</th>\n",
       "      <td>black-culture</td>\n",
       "      <td>beyonce-knowles</td>\n",
       "      <td>Pop</td>\n",
       "      <td>Party the people, the people the party it's po...</td>\n",
       "      <td>61</td>\n",
       "      <td>0.195513</td>\n",
       "      <td>-0.170833</td>\n",
       "      <td>10.424242</td>\n",
       "    </tr>\n",
       "  </tbody>\n",
       "</table>\n",
       "</div>"
      ],
      "text/plain": [
       "              song           artist genre  \\\n",
       "0        ego-remix  beyonce-knowles   Pop   \n",
       "1     then-tell-me  beyonce-knowles   Pop   \n",
       "2          honesty  beyonce-knowles   Pop   \n",
       "3  you-are-my-rock  beyonce-knowles   Pop   \n",
       "4    black-culture  beyonce-knowles   Pop   \n",
       "\n",
       "                                              lyrics  Unique_Word_Count  \\\n",
       "0  Oh baby, how you doing?. You know I'm gonna cu...                159   \n",
       "1  playin' everything so easy,. it's like you see...                141   \n",
       "2  If you search. For tenderness. It isn't hard t...                119   \n",
       "3  Oh oh oh I, oh oh oh I. [Verse 1:]. If I wrote...                153   \n",
       "4  Party the people, the people the party it's po...                 61   \n",
       "\n",
       "   Type-Token Ratio  Sentiment Polarity  Word Density  \n",
       "0          0.367206            0.148268      9.640000  \n",
       "1          0.546512            0.115729      5.849057  \n",
       "2          0.700000            0.004720      4.072727  \n",
       "3          0.293103            0.407280      6.988506  \n",
       "4          0.195513           -0.170833     10.424242  "
      ]
     },
     "execution_count": 3,
     "metadata": {},
     "output_type": "execute_result"
    }
   ],
   "source": [
    "df.head()"
   ]
  },
  {
   "cell_type": "code",
   "execution_count": 5,
   "metadata": {},
   "outputs": [],
   "source": [
    "artist_polarity_group = df['Sentiment Polarity'].groupby(df['artist'])\n",
    "artist_ttr_group = df['Type-Token Ratio'].groupby(df['artist'])"
   ]
  },
  {
   "cell_type": "code",
   "execution_count": 16,
   "metadata": {},
   "outputs": [],
   "source": [
    "artist_polarity_mean = artist_polarity_group.describe()['mean']\n",
    "artist_ttr_mean = artist_ttr_group.describe()['mean']"
   ]
  },
  {
   "cell_type": "code",
   "execution_count": 25,
   "metadata": {},
   "outputs": [],
   "source": [
    "artist_mean_data = pd.concat([artist_polarity_mean,artist_ttr_mean],axis = 1)"
   ]
  },
  {
   "cell_type": "code",
   "execution_count": 29,
   "metadata": {},
   "outputs": [],
   "source": [
    "artist_mean_vals = artist_mean_data.values"
   ]
  },
  {
   "cell_type": "code",
   "execution_count": 31,
   "metadata": {},
   "outputs": [],
   "source": [
    "from sklearn.cluster import KMeans\n",
    "\n",
    "#Judge the optimal number of clusters to use for the k-means algorithm by the elbow method\n",
    "#Determine which value of number of clusters minimises the cost function\n",
    "\n",
    "def get_optimal_k(a,b,data): #Determine cost function(i.e. inertia_ value) for clusters ranging from 2 to 10\n",
    "    inertia_values = []\n",
    "    for x in range(a,b+1):\n",
    "        kmeans = KMeans(n_clusters=x, random_state=0).fit(data) #Train model with specified number of clusters\n",
    "        inertia_values.append((x,kmeans.inertia_))\n",
    "    return inertia_values"
   ]
  },
  {
   "cell_type": "code",
   "execution_count": 32,
   "metadata": {},
   "outputs": [],
   "source": [
    "clustering_data = []\n"
   ]
  },
  {
   "cell_type": "code",
   "execution_count": 33,
   "metadata": {},
   "outputs": [],
   "source": [
    "inertia_values = get_optimal_k(2,20,artist_mean_vals)"
   ]
  },
  {
   "cell_type": "code",
   "execution_count": 40,
   "metadata": {},
   "outputs": [],
   "source": [
    "\n",
    "sorted(inertia_values,key = lambda x: x[1])\n",
    "clustering_data.extend(inertia_values)"
   ]
  },
  {
   "cell_type": "code",
   "execution_count": 41,
   "metadata": {},
   "outputs": [],
   "source": [
    "clustering_data = [(x,y/x) for (x,y) in clustering_data]\n",
    "num_of_clusters = [x for (x,y) in clustering_data]\n",
    "average_wss =[y for (x,y) in clustering_data]\n"
   ]
  },
  {
   "cell_type": "code",
   "execution_count": 42,
   "metadata": {},
   "outputs": [
    {
     "data": {
      "text/plain": [
       "[<matplotlib.lines.Line2D at 0x1b40db5f7b8>]"
      ]
     },
     "execution_count": 42,
     "metadata": {},
     "output_type": "execute_result"
    },
    {
     "data": {
      "image/png": "[encoded data removed]",
      "text/plain": [
       "<Figure size 432x288 with 1 Axes>"
      ]
     },
     "metadata": {
      "needs_background": "light"
     },
     "output_type": "display_data"
    }
   ],
   "source": [
    "plt.plot(num_of_clusters,average_wss) #Elbow point curve suggest 5 is the optimal number of clusters"
   ]
  },
  {
   "cell_type": "code",
   "execution_count": 43,
   "metadata": {},
   "outputs": [],
   "source": [
    "kmeans_artist = KMeans(n_clusters = 5, random_state = 0).fit(artist_mean_vals)"
   ]
  },
  {
   "cell_type": "code",
   "execution_count": 46,
   "metadata": {},
   "outputs": [],
   "source": [
    "cluster_labels = kmeans_artist.labels_"
   ]
  },
  {
   "cell_type": "code",
   "execution_count": 48,
   "metadata": {},
   "outputs": [
    {
     "data": {
      "text/plain": [
       "array([ 728,  904, 1107, 1191, 1012], dtype=int64)"
      ]
     },
     "execution_count": 48,
     "metadata": {},
     "output_type": "execute_result"
    }
   ],
   "source": [
    "np.bincount(cluster_labels)"
   ]
  },
  {
   "cell_type": "code",
   "execution_count": null,
   "metadata": {},
   "outputs": [],
   "source": []
  }
 ],
 "metadata": {
  "kernelspec": {
   "display_name": "Python 3",
   "language": "python",
   "name": "python3"
  },
  "language_info": {
   "codemirror_mode": {
    "name": "ipython",
    "version": 3
   },
   "file_extension": ".py",
   "mimetype": "text/x-python",
   "name": "python",
   "nbconvert_exporter": "python",
   "pygments_lexer": "ipython3",
   "version": "3.6.7"
  }
 },
 "nbformat": 4,
 "nbformat_minor": 2
}
