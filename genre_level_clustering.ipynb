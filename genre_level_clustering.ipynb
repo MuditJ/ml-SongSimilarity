{
 "cells": [
  {
   "cell_type": "code",
   "execution_count": 1,
   "metadata": {},
   "outputs": [],
   "source": [
    "import pandas as pd\n",
    "import matplotlib.pyplot as plt\n",
    "import csv,os,re\n",
    "import sklearn\n",
    "import numpy as np"
   ]
  },
  {
   "cell_type": "code",
   "execution_count": 2,
   "metadata": {},
   "outputs": [],
   "source": [
    "df = pd.read_csv(r'Data/lyrics_normalized.csv')"
   ]
  },
  {
   "cell_type": "code",
   "execution_count": 4,
   "metadata": {
    "collapsed": true
   },
   "outputs": [
    {
     "data": {
      "text/plain": [
       "Rock             95530\n",
       "Pop              32584\n",
       "Metal            19607\n",
       "Hip-Hop          16199\n",
       "Country          13607\n",
       "Not Available    13265\n",
       "Jazz              6865\n",
       "Electronic        5413\n",
       "R&B               3018\n",
       "Indie             2382\n",
       "Folk              1516\n",
       "Other             1409\n",
       "Name: genre, dtype: int64"
      ]
     },
     "execution_count": 4,
     "metadata": {},
     "output_type": "execute_result"
    }
   ],
   "source": [
    "df['genre'].value_counts()"
   ]
  },
  {
   "cell_type": "code",
   "execution_count": 5,
   "metadata": {},
   "outputs": [],
   "source": [
    "#Group the different numeric features by the genre column"
   ]
  },
  {
   "cell_type": "code",
   "execution_count": 6,
   "metadata": {},
   "outputs": [],
   "source": [
    "genre_word_count_group = df['Unique_Word_Count'].groupby(df['genre'])\n",
    "genre_polarity_group = df['Sentiment Polarity'].groupby(df['genre'])\n",
    "genre_ttr_group = df['Type-Token Ratio'].groupby(df['genre'])\n",
    "genre_word_den_group = df['Word Density'].groupby(df['genre'])"
   ]
  },
  {
   "cell_type": "code",
   "execution_count": 12,
   "metadata": {},
   "outputs": [],
   "source": [
    "ttr_mean = (genre_ttr_group.describe()['mean'])\n",
    "polarity_mean = genre_polarity_group.describe()['mean']\n",
    "word_den_mean = genre_word_den_group.describe()['mean']\n",
    "wc_mean = genre_word_count_group.describe()['mean']"
   ]
  },
  {
   "cell_type": "code",
   "execution_count": 16,
   "metadata": {},
   "outputs": [],
   "source": [
    "data = pd.concat([ttr_mean,polarity_mean,word_den_mean,wc_mean],axis = 1)"
   ]
  },
  {
   "cell_type": "code",
   "execution_count": 21,
   "metadata": {},
   "outputs": [],
   "source": [
    "data_array = data.values"
   ]
  },
  {
   "cell_type": "code",
   "execution_count": 27,
   "metadata": {},
   "outputs": [],
   "source": [
    "from sklearn.cluster import KMeans"
   ]
  },
  {
   "cell_type": "code",
   "execution_count": 25,
   "metadata": {},
   "outputs": [],
   "source": [
    "def get_optimal_k(a,b): #Determine cost function(i.e. inertia_ value) for clusters ranging from 2 to 10\n",
    "    inertia_values = []\n",
    "    for x in range(a,b+1):\n",
    "        kmeans = KMeans(n_clusters=x, random_state=0).fit(data) #Train model with specified number of clusters\n",
    "        inertia_values.append((x,kmeans.inertia_))\n",
    "    return inertia_values"
   ]
  },
  {
   "cell_type": "code",
   "execution_count": 28,
   "metadata": {},
   "outputs": [],
   "source": [
    "#Find optimal number of clusters:\n",
    "cluster_data = []\n",
    "inertia_values = get_optimal_k(2,10)"
   ]
  },
  {
   "cell_type": "code",
   "execution_count": 29,
   "metadata": {},
   "outputs": [],
   "source": [
    "vals = sorted(inertia_values,key = lambda x: x[1])"
   ]
  },
  {
   "cell_type": "code",
   "execution_count": 31,
   "metadata": {},
   "outputs": [],
   "source": [
    "cluster_data.extend(vals)\n",
    "cluster_wss = [(x,y/x) for (x,y) in cluster_data]\n",
    "num_of_clusters = [x for (x,y) in cluster_wss]\n",
    "average_wss =[y for (x,y) in cluster_wss]"
   ]
  },
  {
   "cell_type": "code",
   "execution_count": 32,
   "metadata": {},
   "outputs": [
    {
     "data": {
      "text/plain": [
       "[<matplotlib.lines.Line2D at 0x1a1e58368d0>]"
      ]
     },
     "execution_count": 32,
     "metadata": {},
     "output_type": "execute_result"
    },
    {
     "data": {
      "image/png": "[encoded data removed]",
      "text/plain": [
       "<Figure size 432x288 with 1 Axes>"
      ]
     },
     "metadata": {
      "needs_background": "light"
     },
     "output_type": "display_data"
    }
   ],
   "source": [
    "#Elbow method:\n",
    "\n",
    "plt.plot(num_of_clusters,average_wss)"
   ]
  },
  {
   "cell_type": "markdown",
   "metadata": {},
   "source": [
    "3 appears to be the ideal number of clusters"
   ]
  },
  {
   "cell_type": "code",
   "execution_count": 33,
   "metadata": {},
   "outputs": [],
   "source": [
    "kmeans = KMeans(n_clusters = 3, random_state = 0).fit(data_array)"
   ]
  },
  {
   "cell_type": "code",
   "execution_count": 34,
   "metadata": {},
   "outputs": [
    {
     "data": {
      "text/plain": [
       "{'n_clusters': 3,\n",
       " 'init': 'k-means++',\n",
       " 'max_iter': 300,\n",
       " 'tol': 0.0001,\n",
       " 'precompute_distances': 'auto',\n",
       " 'n_init': 10,\n",
       " 'verbose': 0,\n",
       " 'random_state': 0,\n",
       " 'copy_x': True,\n",
       " 'n_jobs': None,\n",
       " 'algorithm': 'auto',\n",
       " 'cluster_centers_': array([[0.5251242 , 0.11949048, 0.82266183, 0.69640242],\n",
       "        [0.51820991, 0.05521354, 0.79538747, 0.36359132],\n",
       "        [0.62718728, 0.00426582, 0.84457993, 0.69347569]]),\n",
       " 'labels_': array([0, 0, 0, 1, 0, 0, 2, 0, 0, 0, 0, 0]),\n",
       " 'inertia_': 0.020145154318606123,\n",
       " 'n_iter_': 2}"
      ]
     },
     "execution_count": 34,
     "metadata": {},
     "output_type": "execute_result"
    }
   ],
   "source": [
    "kmeans.__dict__"
   ]
  },
  {
   "cell_type": "markdown",
   "metadata": {},
   "source": [
    "Almost all the points fall into one cluster. Thus, k-means clustering of genre level feature data doesnt offer anything useful. Moreover, these are too few data points to apply alternative clustering approaches like DBSCAN"
   ]
  },
  {
   "cell_type": "code",
   "execution_count": null,
   "metadata": {},
   "outputs": [],
   "source": []
  },
  {
   "cell_type": "code",
   "execution_count": null,
   "metadata": {},
   "outputs": [],
   "source": []
  }
 ],
 "metadata": {
  "kernelspec": {
   "display_name": "Python 3",
   "language": "python",
   "name": "python3"
  },
  "language_info": {
   "codemirror_mode": {
    "name": "ipython",
    "version": 3
   },
   "file_extension": ".py",
   "mimetype": "text/x-python",
   "name": "python",
   "nbconvert_exporter": "python",
   "pygments_lexer": "ipython3",
   "version": "3.6.7"
  }
 },
 "nbformat": 4,
 "nbformat_minor": 2
}
