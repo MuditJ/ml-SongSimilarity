{
 "cells": [
  {
   "cell_type": "code",
   "execution_count": 1,
   "metadata": {},
   "outputs": [],
   "source": [
    "import nltk\n",
    "from nltk.corpus import stopwords"
   ]
  },
  {
   "cell_type": "code",
   "execution_count": 2,
   "metadata": {},
   "outputs": [],
   "source": [
    "words = set(stopwords.words('english'))"
   ]
  },
  {
   "cell_type": "code",
   "execution_count": 18,
   "metadata": {},
   "outputs": [],
   "source": [
    "#words = words - set([x for x in words if len(x) < 3])\n",
    "subset_words = set([x for x in words if 3 <= len(x) <= 5 ])"
   ]
  },
  {
   "cell_type": "code",
   "execution_count": 19,
   "metadata": {},
   "outputs": [],
   "source": [
    "subset_words\n",
    "other_set = set([x for x in subset_words if len(x) <= 3])"
   ]
  },
  {
   "cell_type": "code",
   "execution_count": 20,
   "metadata": {},
   "outputs": [
    {
     "data": {
      "text/plain": [
       "{'ain',\n",
       " 'all',\n",
       " 'and',\n",
       " 'any',\n",
       " 'are',\n",
       " 'but',\n",
       " 'can',\n",
       " 'did',\n",
       " 'don',\n",
       " 'few',\n",
       " 'for',\n",
       " 'had',\n",
       " 'has',\n",
       " 'her',\n",
       " 'him',\n",
       " 'his',\n",
       " 'how',\n",
       " 'isn',\n",
       " 'its',\n",
       " 'nor',\n",
       " 'not',\n",
       " 'now',\n",
       " 'off',\n",
       " 'our',\n",
       " 'out',\n",
       " 'own',\n",
       " 'she',\n",
       " 'the',\n",
       " 'too',\n",
       " 'was',\n",
       " 'who',\n",
       " 'why',\n",
       " 'won',\n",
       " 'you'}"
      ]
     },
     "execution_count": 20,
     "metadata": {},
     "output_type": "execute_result"
    }
   ],
   "source": [
    "other_set"
   ]
  },
  {
   "cell_type": "code",
   "execution_count": 21,
   "metadata": {},
   "outputs": [
    {
     "data": {
      "text/plain": [
       "34"
      ]
     },
     "execution_count": 21,
     "metadata": {},
     "output_type": "execute_result"
    }
   ],
   "source": [
    "len(other_set)"
   ]
  },
  {
   "cell_type": "code",
   "execution_count": 22,
   "metadata": {},
   "outputs": [],
   "source": [
    "two = [x for x in words if len(x) == 2]"
   ]
  },
  {
   "cell_type": "code",
   "execution_count": 24,
   "metadata": {},
   "outputs": [],
   "source": [
    "four = [x for x in words if len(x) == 4]"
   ]
  },
  {
   "cell_type": "code",
   "execution_count": 25,
   "metadata": {},
   "outputs": [
    {
     "data": {
      "text/plain": [
       "['shan',\n",
       " 'aren',\n",
       " 'hers',\n",
       " 'then',\n",
       " 'wasn',\n",
       " 'over',\n",
       " 'into',\n",
       " 'only',\n",
       " 'same',\n",
       " 'ours',\n",
       " \"it's\",\n",
       " 'them',\n",
       " 'once',\n",
       " 'have',\n",
       " 'with',\n",
       " 'does',\n",
       " 'here',\n",
       " 'than',\n",
       " 'each',\n",
       " 'were',\n",
       " 'what',\n",
       " 'hadn',\n",
       " 'down',\n",
       " 'they',\n",
       " 'more',\n",
       " 'when',\n",
       " 'didn',\n",
       " 'will',\n",
       " 'whom',\n",
       " 'most',\n",
       " 'just',\n",
       " 'that',\n",
       " 'your',\n",
       " 'some',\n",
       " 'hasn',\n",
       " 'very',\n",
       " 'both',\n",
       " 'this',\n",
       " 'been',\n",
       " 'from',\n",
       " 'such']"
      ]
     },
     "execution_count": 25,
     "metadata": {},
     "output_type": "execute_result"
    }
   ],
   "source": [
    "four"
   ]
  },
  {
   "cell_type": "code",
   "execution_count": null,
   "metadata": {},
   "outputs": [],
   "source": []
  },
  {
   "cell_type": "code",
   "execution_count": null,
   "metadata": {},
   "outputs": [],
   "source": []
  }
 ],
 "metadata": {
  "kernelspec": {
   "display_name": "Python 3",
   "language": "python",
   "name": "python3"
  },
  "language_info": {
   "codemirror_mode": {
    "name": "ipython",
    "version": 3
   },
   "file_extension": ".py",
   "mimetype": "text/x-python",
   "name": "python",
   "nbconvert_exporter": "python",
   "pygments_lexer": "ipython3",
   "version": "3.6.5"
  }
 },
 "nbformat": 4,
 "nbformat_minor": 2
}
