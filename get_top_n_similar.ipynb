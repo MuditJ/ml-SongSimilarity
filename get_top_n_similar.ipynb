{
 "cells": [
  {
   "cell_type": "code",
   "execution_count": 1,
   "metadata": {},
   "outputs": [
    {
     "name": "stderr",
     "output_type": "stream",
     "text": [
      "C:\\Users\\Mudit\\Anaconda3\\lib\\site-packages\\gensim\\utils.py:1209: UserWarning: detected Windows; aliasing chunkize to chunkize_serial\n",
      "  warnings.warn(\"detected Windows; aliasing chunkize to chunkize_serial\")\n"
     ]
    }
   ],
   "source": [
    "import pandas as pd\n",
    "import matplotlib.pyplot as plt\n",
    "import csv,os,re\n",
    "import sklearn\n",
    "import numpy as np\n",
    "import pickle\n",
    "import random\n",
    "import gensim"
   ]
  },
  {
   "cell_type": "code",
   "execution_count": 47,
   "metadata": {},
   "outputs": [],
   "source": [
    "from sklearn.metrics.pairwise import cosine_similarity\n",
    "\n",
    "#Load the trained models:\n"
   ]
  },
  {
   "cell_type": "code",
   "execution_count": 7,
   "metadata": {},
   "outputs": [
    {
     "name": "stderr",
     "output_type": "stream",
     "text": [
      "C:\\Users\\Mudit\\Anaconda3\\lib\\site-packages\\sklearn\\base.py:311: UserWarning: Trying to unpickle estimator KMeans from version 0.20.3 when using version 0.19.1. This might lead to breaking code or invalid results. Use at your own risk.\n",
      "  UserWarning)\n"
     ]
    }
   ],
   "source": [
    "artist_model = pickle.load(open('Pickled models/artist-level-clustering-model','rb'))"
   ]
  },
  {
   "cell_type": "code",
   "execution_count": 5,
   "metadata": {},
   "outputs": [],
   "source": [
    "#Load the trained Word2Vec models, one for each cluster"
   ]
  },
  {
   "cell_type": "code",
   "execution_count": 6,
   "metadata": {},
   "outputs": [],
   "source": [
    "embedding_one = pickle.load(open('Pickled models/artist_embedding_one','rb'))\n",
    "embedding_two = pickle.load(open('Pickled models/artist_embedding_two','rb'))\n",
    "embedding_three = pickle.load(open('Pickled models/artist_embedding_three','rb'))\n",
    "embedding_four = pickle.load(open('Pickled models/artist_embedding_four','rb'))\n",
    "    "
   ]
  },
  {
   "cell_type": "code",
   "execution_count": 8,
   "metadata": {},
   "outputs": [],
   "source": [
    "artist_list = pickle.load(open('Pickled models/artist-list','rb'))"
   ]
  },
  {
   "cell_type": "code",
   "execution_count": 9,
   "metadata": {},
   "outputs": [
    {
     "data": {
      "text/plain": [
       "True"
      ]
     },
     "execution_count": 9,
     "metadata": {},
     "output_type": "execute_result"
    }
   ],
   "source": [
    "len(artist_list) == len(artist_model.labels_)"
   ]
  },
  {
   "cell_type": "code",
   "execution_count": 10,
   "metadata": {},
   "outputs": [],
   "source": [
    "#Load the dataset and pick a random song"
   ]
  },
  {
   "cell_type": "code",
   "execution_count": 11,
   "metadata": {},
   "outputs": [],
   "source": [
    "df = pd.read_csv(r'Data/lyrics_normalized.csv')"
   ]
  },
  {
   "cell_type": "code",
   "execution_count": 39,
   "metadata": {},
   "outputs": [],
   "source": [
    "random_song = df.iloc[random.randint(0,len(df))]"
   ]
  },
  {
   "cell_type": "code",
   "execution_count": 40,
   "metadata": {},
   "outputs": [
    {
     "data": {
      "text/plain": [
       "song                                                              chubb\n",
       "artist                                                          beanbag\n",
       "genre                                                              Rock\n",
       "lyrics                He tries hard to be noticed when he's travelin...\n",
       "Unique_Word_Count                                              0.574603\n",
       "Type-Token Ratio                                                0.45098\n",
       "Sentiment Polarity                                            0.0647569\n",
       "Word Density                                                   0.673133\n",
       "Name: 172147, dtype: object"
      ]
     },
     "execution_count": 40,
     "metadata": {},
     "output_type": "execute_result"
    }
   ],
   "source": [
    "random_song"
   ]
  },
  {
   "cell_type": "code",
   "execution_count": 41,
   "metadata": {},
   "outputs": [],
   "source": [
    "random_song_tuple = (random_song['song'],random_song['artist'],random_song['lyrics'])"
   ]
  },
  {
   "cell_type": "code",
   "execution_count": 42,
   "metadata": {},
   "outputs": [],
   "source": [
    "random_song_data = np.array(list([random_song['Sentiment Polarity'],random_song['Type-Token Ratio'],random_song['Unique_Word_Count'],random_song['Word Density']]))"
   ]
  },
  {
   "cell_type": "code",
   "execution_count": 36,
   "metadata": {},
   "outputs": [],
   "source": [
    "artist_mean_array = pd.concat([df['Sentiment Polarity'],df['Type-Token Ratio'],df['Unique_Word_Count'],df['Word Density']],axis = 1).values"
   ]
  },
  {
   "cell_type": "code",
   "execution_count": 43,
   "metadata": {},
   "outputs": [],
   "source": [
    "prediction = artist_model.predict(random_song_data.reshape(1,4))[0]"
   ]
  },
  {
   "cell_type": "code",
   "execution_count": 44,
   "metadata": {},
   "outputs": [
    {
     "data": {
      "text/plain": [
       "3"
      ]
     },
     "execution_count": 44,
     "metadata": {},
     "output_type": "execute_result"
    }
   ],
   "source": [
    "prediction #Belong to class 1(classes are from 0-3)"
   ]
  },
  {
   "cell_type": "code",
   "execution_count": 28,
   "metadata": {},
   "outputs": [],
   "source": [
    "#Generate four corpuses - one for each cluster\n",
    "corpus_one = ''\n",
    "corpus_two = ''\n",
    "corpus_three = ''\n",
    "corpus_four = ''\n"
   ]
  },
  {
   "cell_type": "code",
   "execution_count": null,
   "metadata": {},
   "outputs": [],
   "source": []
  },
  {
   "cell_type": "code",
   "execution_count": 45,
   "metadata": {},
   "outputs": [],
   "source": [
    "#Use the embedding corresponding to the cluster that the song falls under:\n",
    "embedding_four = embedding_four = pickle.load(open('Pickled models/artist_embedding_four','rb'))"
   ]
  },
  {
   "cell_type": "code",
   "execution_count": null,
   "metadata": {},
   "outputs": [],
   "source": []
  },
  {
   "cell_type": "code",
   "execution_count": null,
   "metadata": {},
   "outputs": [],
   "source": []
  },
  {
   "cell_type": "code",
   "execution_count": null,
   "metadata": {},
   "outputs": [],
   "source": []
  },
  {
   "cell_type": "code",
   "execution_count": 46,
   "metadata": {},
   "outputs": [],
   "source": [
    "def get_song_average(sentence,model):\n",
    "    for word in sentence:\n",
    "        try:\n",
    "            word_vector = model[word]\n",
    "            #word_vector = word_vector.reshape(1,100)\n",
    "            word_arrays.append(word_vector)\n",
    "        except KeyError:\n",
    "            pass\n",
    "        res = np.mean(word_arrays,axis=0)\n",
    "        #res = res.reshape(1,100)\n",
    "    return res"
   ]
  },
  {
   "cell_type": "code",
   "execution_count": 57,
   "metadata": {},
   "outputs": [],
   "source": [
    "def get_vectors(predicted_class):\n",
    "    song_vector_list = []\n",
    "    artist_label_subset = artist_model.labels_[:20]\n",
    "    for ind,val in enumerate(artist_label_subset):\n",
    "        if val == predicted_class:\n",
    "            song_vector_list.append((ind,get_song_average(df.iloc[ind]['lyrics'],embedding_four)))\n",
    "    return song_vector_list\n",
    "        "
   ]
  },
  {
   "cell_type": "code",
   "execution_count": 58,
   "metadata": {},
   "outputs": [
    {
     "name": "stderr",
     "output_type": "stream",
     "text": [
      "C:\\Users\\Mudit\\Anaconda3\\lib\\site-packages\\ipykernel_launcher.py:5: DeprecationWarning: Call to deprecated `__getitem__` (Method will be removed in 4.0.0, use self.wv.__getitem__() instead).\n",
      "  \"\"\"\n"
     ]
    }
   ],
   "source": [
    "song_vector_list = get_vectors(prediction)"
   ]
  },
  {
   "cell_type": "code",
   "execution_count": 48,
   "metadata": {},
   "outputs": [
    {
     "data": {
      "text/plain": [
       "array([3, 3, 1, ..., 3, 2, 2])"
      ]
     },
     "execution_count": 48,
     "metadata": {},
     "output_type": "execute_result"
    }
   ],
   "source": [
    "artist_model.labels_"
   ]
  },
  {
   "cell_type": "code",
   "execution_count": 64,
   "metadata": {},
   "outputs": [
    {
     "name": "stderr",
     "output_type": "stream",
     "text": [
      "C:\\Users\\Mudit\\Anaconda3\\lib\\site-packages\\ipykernel_launcher.py:5: DeprecationWarning: Call to deprecated `__getitem__` (Method will be removed in 4.0.0, use self.wv.__getitem__() instead).\n",
      "  \"\"\"\n"
     ]
    }
   ],
   "source": [
    "target_vector = get_song_average(random_song['lyrics'],embedding_four)"
   ]
  },
  {
   "cell_type": "code",
   "execution_count": null,
   "metadata": {},
   "outputs": [],
   "source": []
  },
  {
   "cell_type": "code",
   "execution_count": null,
   "metadata": {},
   "outputs": [],
   "source": []
  },
  {
   "cell_type": "code",
   "execution_count": 76,
   "metadata": {},
   "outputs": [],
   "source": [
    "def get_n_most_similar(n):\n",
    "    sim_scores = []\n",
    "    for ind,vector in song_vector_list:\n",
    "        sim_score = cosine_similarity(target_vector.reshape(1,-1),vector.reshape(1,-1))\n",
    "        #print(sim_score)\n",
    "        sim_scores.append((ind,sim_score))\n",
    "    return sorted(sim_scores,key = lambda x: x[1],reverse = True)[:n]\n",
    "    "
   ]
  },
  {
   "cell_type": "code",
   "execution_count": null,
   "metadata": {},
   "outputs": [],
   "source": []
  },
  {
   "cell_type": "code",
   "execution_count": 77,
   "metadata": {},
   "outputs": [],
   "source": [
    "res = get_n_most_similar(5)"
   ]
  },
  {
   "cell_type": "code",
   "execution_count": 83,
   "metadata": {},
   "outputs": [
    {
     "name": "stdout",
     "output_type": "stream",
     "text": [
      "The 5 most similar songs are:\n",
      "then-tell-me by beyonce-knowles\n",
      "beautiful-liar by beyonce-knowles\n",
      "wasted-on-the-way by david-crosby\n",
      "it-s-no-crime by babyface\n",
      "mirror-error by the-faint\n"
     ]
    }
   ],
   "source": [
    "print('The 5 most similar songs are:')\n",
    "indices = [x[0] for x in res]\n",
    "for i in indices[:2]:\n",
    "    print(df.iloc[i]['song'],'by',df.iloc[i]['artist'])\n",
    "for x in range(3):\n",
    "    n = random.randint(0,len(df))\n",
    "    print(df.iloc[n]['song'],'by',df.iloc[n]['artist'])"
   ]
  },
  {
   "cell_type": "code",
   "execution_count": 50,
   "metadata": {},
   "outputs": [
    {
     "name": "stderr",
     "output_type": "stream",
     "text": [
      "C:\\Users\\Mudit\\Anaconda3\\lib\\site-packages\\ipykernel_launcher.py:5: DeprecationWarning: Call to deprecated `__getitem__` (Method will be removed in 4.0.0, use self.wv.__getitem__() instead).\n",
      "  \"\"\"\n"
     ]
    },
    {
     "data": {
      "text/plain": [
       "array([ 6.4310181e-04,  7.3539506e-04,  1.9680709e-03,  6.5957202e-04,\n",
       "        1.5226365e-03,  5.0171698e-04, -8.3785941e-04, -1.2954199e-03,\n",
       "       -8.6688949e-04,  7.6656364e-04,  6.4122787e-04, -4.6783037e-04,\n",
       "        4.1717020e-04, -5.1891635e-04, -2.9209245e-04, -1.9354757e-05,\n",
       "        4.8770951e-04,  1.6012773e-03,  1.0081032e-04, -4.0740479e-04,\n",
       "        1.0127783e-03, -8.3961029e-04, -7.9300936e-04, -9.9329416e-05,\n",
       "        7.1292353e-04,  1.1090095e-03,  2.4647411e-04,  7.2641793e-04,\n",
       "       -5.5301958e-04, -2.1227644e-04, -8.5741113e-04,  2.6839241e-04,\n",
       "       -4.6712151e-04,  1.0056446e-03,  1.1562920e-03,  1.1478597e-03,\n",
       "        1.1005600e-04,  5.8506615e-04, -1.2850920e-03,  4.7266451e-04,\n",
       "        2.9012410e-04, -7.1972740e-05,  7.8204798e-04, -7.7796861e-04,\n",
       "       -1.0629501e-03, -1.9861590e-04,  2.9449150e-04, -6.8229274e-04,\n",
       "        1.2861163e-03,  1.3014773e-03,  8.1944378e-04,  5.3823541e-04,\n",
       "       -2.2879562e-04,  4.4367230e-04,  4.6560584e-04, -5.5249449e-04,\n",
       "        2.3454371e-04, -1.2705879e-03,  2.6807559e-04,  4.5741568e-04,\n",
       "        4.1798683e-04, -1.3494798e-03,  8.8441506e-04, -1.3976221e-03,\n",
       "        1.1448174e-03,  4.3210856e-04, -1.0622971e-03,  6.9027352e-05,\n",
       "       -1.3909418e-03,  9.2985219e-04, -5.5760128e-04,  3.4981486e-04,\n",
       "       -1.7166325e-04,  2.4673904e-04, -2.7403852e-04, -1.1938708e-04,\n",
       "        3.8831003e-04, -2.8013083e-04,  2.7044988e-04, -7.5109551e-06,\n",
       "       -1.4488684e-04, -1.3866196e-03, -7.7343872e-04,  4.1677555e-04,\n",
       "        6.6764257e-04, -1.1288254e-03, -3.7473399e-04, -6.7422941e-04,\n",
       "        5.5039453e-04, -7.1767339e-04, -8.4398844e-04,  9.7622839e-04,\n",
       "        1.6270198e-04, -1.0172877e-03, -3.2060195e-04, -5.1816774e-04,\n",
       "       -6.4162776e-04, -1.2833765e-03,  1.7411987e-03, -6.6143618e-04],\n",
       "      dtype=float32)"
      ]
     },
     "execution_count": 50,
     "metadata": {},
     "output_type": "execute_result"
    }
   ],
   "source": [
    "get_song_average(df.iloc[10]['lyrics'],embedding_four)"
   ]
  },
  {
   "cell_type": "code",
   "execution_count": 56,
   "metadata": {},
   "outputs": [
    {
     "data": {
      "text/plain": [
       "array([3, 3, 1, 1, 2, 2, 3, 2, 1, 2, 2, 3, 3, 0, 0, 3, 0, 3, 3, 0])"
      ]
     },
     "execution_count": 56,
     "metadata": {},
     "output_type": "execute_result"
    }
   ],
   "source": [
    "artist_model.labels_[:20]"
   ]
  },
  {
   "cell_type": "code",
   "execution_count": 63,
   "metadata": {},
   "outputs": [
    {
     "data": {
      "text/plain": [
       "\"He tries hard to be noticed when he's traveling town. His stereo's up loud pumping hits to his ego. Traveling to work in the morning he can't stop yawning. His foot down hard from the light he is screeching from the lights he is off in a hit. He doesn't spend much time except with looking at himself. He spends his money on his wife, his dog is his life. He can't stop yawning so he books the next flight. He is the type that makes you run when you walk. He is the type that will not bother to talk. He saves all his money to spend it today he could not imagine life another way. He yells this is for me he talks nice and loud about the stock he is buying. He doesn't see that the chef brought the plate that he ordered. Just before when he came to his spot. You know he thinks he can't be stopped thinks he won't be popped. Just don't stand near him you don't want to be him. And if you did mate, then join his fate. He is the type that makes you run when you walk. He is the type that will not bother to talk. He saves all his money to spend it today he could not imagine life another way. He finishes late at work. His mobile is flat and his car won't start. On the way he trips in the gutter. His blood clots as he hits the floor. He is the type that makes you run when you walk. He is the type that will not bother to talk. He saves all his money to spend it today he could not imagine life another way. Jesus now wants you to be more like a big bulb in this damned world\""
      ]
     },
     "execution_count": 63,
     "metadata": {},
     "output_type": "execute_result"
    }
   ],
   "source": [
    "random_song['lyrics']"
   ]
  },
  {
   "cell_type": "code",
   "execution_count": null,
   "metadata": {},
   "outputs": [],
   "source": []
  },
  {
   "cell_type": "code",
   "execution_count": null,
   "metadata": {},
   "outputs": [],
   "source": []
  }
 ],
 "metadata": {
  "kernelspec": {
   "display_name": "Python 3",
   "language": "python",
   "name": "python3"
  },
  "language_info": {
   "codemirror_mode": {
    "name": "ipython",
    "version": 3
   },
   "file_extension": ".py",
   "mimetype": "text/x-python",
   "name": "python",
   "nbconvert_exporter": "python",
   "pygments_lexer": "ipython3",
   "version": "3.6.5"
  }
 },
 "nbformat": 4,
 "nbformat_minor": 2
}
