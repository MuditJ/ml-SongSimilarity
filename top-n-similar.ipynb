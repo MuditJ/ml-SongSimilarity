{
 "cells": [
  {
   "cell_type": "code",
   "execution_count": 1,
   "metadata": {},
   "outputs": [
    {
     "name": "stderr",
     "output_type": "stream",
     "text": [
      "C:\\Users\\Mudit\\Anaconda3\\lib\\site-packages\\gensim\\utils.py:1209: UserWarning: detected Windows; aliasing chunkize to chunkize_serial\n",
      "  warnings.warn(\"detected Windows; aliasing chunkize to chunkize_serial\")\n"
     ]
    }
   ],
   "source": [
    "import pandas as pd\n",
    "import matplotlib.pyplot as plt\n",
    "import csv,os,re\n",
    "import sklearn\n",
    "import numpy as np\n",
    "import pickle\n",
    "import random\n",
    "import gensim"
   ]
  },
  {
   "cell_type": "code",
   "execution_count": 4,
   "metadata": {},
   "outputs": [],
   "source": [
    "#Build word embeddings model from cluster-wise corpus. \n",
    "#Get vector representation for the n-nearest neighbouring points in the same cluster as the target point and use cosine similarity"
   ]
  },
  {
   "cell_type": "code",
   "execution_count": 102,
   "metadata": {},
   "outputs": [],
   "source": [
    "#Loading the artist-level k-means clustering model:"
   ]
  },
  {
   "cell_type": "code",
   "execution_count": 2,
   "metadata": {},
   "outputs": [
    {
     "name": "stderr",
     "output_type": "stream",
     "text": [
      "C:\\Users\\Mudit\\Anaconda3\\lib\\site-packages\\sklearn\\base.py:311: UserWarning: Trying to unpickle estimator KMeans from version 0.20.3 when using version 0.19.1. This might lead to breaking code or invalid results. Use at your own risk.\n",
      "  UserWarning)\n"
     ]
    }
   ],
   "source": [
    "artist_model = pickle.load(open('Pickled models/artist-level-clustering-model','rb'))"
   ]
  },
  {
   "cell_type": "code",
   "execution_count": 3,
   "metadata": {},
   "outputs": [],
   "source": [
    "df = pd.read_csv(r'Data/lyrics_normalized.csv')"
   ]
  },
  {
   "cell_type": "markdown",
   "metadata": {},
   "source": [
    "We will pick a song at random from our data set and use it to get the top-5 recommendations. The same approach can be applied to an external song, after extracting its required numeric features. "
   ]
  },
  {
   "cell_type": "code",
   "execution_count": 19,
   "metadata": {},
   "outputs": [],
   "source": [
    "song_ind = random.randint(0,len(df)) #Taking a song from our dataset at random"
   ]
  },
  {
   "cell_type": "code",
   "execution_count": 20,
   "metadata": {},
   "outputs": [],
   "source": [
    "song = df.iloc[song_ind]"
   ]
  },
  {
   "cell_type": "code",
   "execution_count": 29,
   "metadata": {},
   "outputs": [],
   "source": [
    "#Order of features to take: polarity,ttr,unique_word_count,word density\n",
    "vals = np.array(list([song['Sentiment Polarity'],song['Type-Token Ratio'],song['Unique_Word_Count'],song['Word Density']]))"
   ]
  },
  {
   "cell_type": "code",
   "execution_count": 37,
   "metadata": {},
   "outputs": [],
   "source": [
    "artist_mean_array = pd.concat([df['Sentiment Polarity'],df['Type-Token Ratio'],df['Unique_Word_Count'],df['Word Density']],axis = 1).values"
   ]
  },
  {
   "cell_type": "code",
   "execution_count": null,
   "metadata": {},
   "outputs": [],
   "source": []
  },
  {
   "cell_type": "code",
   "execution_count": null,
   "metadata": {},
   "outputs": [],
   "source": []
  },
  {
   "cell_type": "code",
   "execution_count": null,
   "metadata": {},
   "outputs": [],
   "source": []
  },
  {
   "cell_type": "code",
   "execution_count": 24,
   "metadata": {},
   "outputs": [
    {
     "data": {
      "text/plain": [
       "array([-0.12815657,  0.66326531,  0.80634921,  0.82873653])"
      ]
     },
     "execution_count": 24,
     "metadata": {},
     "output_type": "execute_result"
    }
   ],
   "source": [
    "vals"
   ]
  },
  {
   "cell_type": "code",
   "execution_count": 31,
   "metadata": {},
   "outputs": [],
   "source": [
    "prediction = artist_model.predict(vals.reshape(1,4))[0] #Determine the cluster number for this song"
   ]
  },
  {
   "cell_type": "code",
   "execution_count": 32,
   "metadata": {},
   "outputs": [
    {
     "data": {
      "text/plain": [
       "2"
      ]
     },
     "execution_count": 32,
     "metadata": {},
     "output_type": "execute_result"
    }
   ],
   "source": [
    "#hasattr(artist_model.labels_,'next')\n",
    "prediction"
   ]
  },
  {
   "cell_type": "code",
   "execution_count": 67,
   "metadata": {},
   "outputs": [],
   "source": [
    "from gensim.models import Word2Vec"
   ]
  },
  {
   "cell_type": "code",
   "execution_count": 77,
   "metadata": {},
   "outputs": [],
   "source": [
    "#Generate four corpuses - one for each cluster\n",
    "corpus_one = ''\n",
    "corpus_two = ''\n",
    "corpus_three = ''\n",
    "corpus_four = ''\n"
   ]
  },
  {
   "cell_type": "code",
   "execution_count": 33,
   "metadata": {},
   "outputs": [],
   "source": [
    "def get_distance(a,b):\n",
    "    return sum([(x-y)**2 for x,y in zip(a,b)])"
   ]
  },
  {
   "cell_type": "code",
   "execution_count": 43,
   "metadata": {},
   "outputs": [],
   "source": [
    "def get_top_n(n,song,prediction): #prediction is the label prediction for the target point i.e. the song whose most similar songs are to be found\n",
    "    #song is the 1-d numpy array representing the target song\n",
    "    indices = []\n",
    "    for ind,val in enumerate(artist_model.labels_):\n",
    "        if val == prediction:\n",
    "            indices.append(ind) #These indices correspond to datapoints belonging in the same cluster as the target point\n",
    "    distances = []\n",
    "    for ind in indices:\n",
    "        datapoint = artist_mean_array[ind,:]\n",
    "        dist = get_distance(song,datapoint)\n",
    "        distances.append((ind,dist))\n",
    "    return sorted(distances,key = lambda x:x[1])[:n]"
   ]
  },
  {
   "cell_type": "code",
   "execution_count": null,
   "metadata": {},
   "outputs": [],
   "source": [
    "#Use 100 as argument value for parameter n to get the 100 most similar artists.Then, build corpus"
   ]
  },
  {
   "cell_type": "code",
   "execution_count": 44,
   "metadata": {},
   "outputs": [],
   "source": [
    "res = get_top_n(100,vals,prediction)"
   ]
  },
  {
   "cell_type": "code",
   "execution_count": 47,
   "metadata": {
    "collapsed": true
   },
   "outputs": [
    {
     "data": {
      "text/plain": [
       "[(1769, 0.0012786268008515525),\n",
       " (2013, 0.0023981115643599395),\n",
       " (592, 0.003027597434217502),\n",
       " (2519, 0.003180029603945762),\n",
       " (850, 0.0040265272436803),\n",
       " (1426, 0.004040578467193018),\n",
       " (3095, 0.005150925919885154),\n",
       " (1411, 0.0052555797806879126),\n",
       " (815, 0.005480811271986962),\n",
       " (570, 0.0063644840222861826),\n",
       " (2849, 0.007439872697623466),\n",
       " (3443, 0.00755902780984986),\n",
       " (3986, 0.007640466068135841),\n",
       " (3151, 0.007925803081855552),\n",
       " (3682, 0.008666167060984272),\n",
       " (1477, 0.008727059450347283),\n",
       " (3260, 0.009389405966479225),\n",
       " (660, 0.009416581547111877),\n",
       " (4292, 0.009479778571307116),\n",
       " (4204, 0.009511406884512406),\n",
       " (3700, 0.00984066081650068),\n",
       " (2838, 0.010114581944765028),\n",
       " (2629, 0.010524543965403086),\n",
       " (3072, 0.011684407975948673),\n",
       " (999, 0.011691037708734107),\n",
       " (2532, 0.011769455291785597),\n",
       " (3050, 0.011879581099309918),\n",
       " (4061, 0.012060540854863244),\n",
       " (3024, 0.012256971851353002),\n",
       " (318, 0.012460800218087355),\n",
       " (1978, 0.012545133882672976),\n",
       " (3127, 0.012784769287691755),\n",
       " (3451, 0.013069755355926908),\n",
       " (1276, 0.013127284484656974),\n",
       " (534, 0.013271842685296173),\n",
       " (2724, 0.013416052014651821),\n",
       " (3403, 0.01350442098988406),\n",
       " (3945, 0.013856966308268631),\n",
       " (324, 0.014072440722105818),\n",
       " (2171, 0.014104902963993622),\n",
       " (3086, 0.014305519509983471),\n",
       " (3247, 0.0144079018938453),\n",
       " (1440, 0.014510898756497847),\n",
       " (3158, 0.014771738791153061),\n",
       " (2165, 0.015048599466065144),\n",
       " (3413, 0.01524808354113544),\n",
       " (4087, 0.015262300254327782),\n",
       " (3183, 0.01571524262016193),\n",
       " (782, 0.015766018569281563),\n",
       " (1792, 0.01625218859174088),\n",
       " (2827, 0.016321067596348177),\n",
       " (1635, 0.01639868604253026),\n",
       " (1385, 0.01646132844523844),\n",
       " (3442, 0.016698473213478043),\n",
       " (2179, 0.016808690033699857),\n",
       " (4566, 0.016904964337817754),\n",
       " (2123, 0.0170801241461383),\n",
       " (1494, 0.01708592504818554),\n",
       " (4357, 0.01710106522365472),\n",
       " (1281, 0.017411839470466886),\n",
       " (4050, 0.01785994983661891),\n",
       " (722, 0.018309792645486996),\n",
       " (533, 0.018389002902465743),\n",
       " (3382, 0.01841674405528552),\n",
       " (3782, 0.01902193629085333),\n",
       " (2959, 0.01915489793642057),\n",
       " (4919, 0.01917806049293405),\n",
       " (3796, 0.019186308897861337),\n",
       " (4361, 0.01931867028891484),\n",
       " (3448, 0.0193819048869825),\n",
       " (3463, 0.01943962102911897),\n",
       " (3822, 0.02010020056128819),\n",
       " (476, 0.02016748746177691),\n",
       " (923, 0.020232844242813294),\n",
       " (4558, 0.020344720363912654),\n",
       " (3526, 0.020468170668215848),\n",
       " (3252, 0.020697667868050183),\n",
       " (4067, 0.02076733088163802),\n",
       " (521, 0.02120640970790256),\n",
       " (4383, 0.021312799063373335),\n",
       " (1384, 0.02154339398805434),\n",
       " (3459, 0.021547461004640778),\n",
       " (1774, 0.0217042972170765),\n",
       " (2537, 0.021778177166482258),\n",
       " (740, 0.021779201920025106),\n",
       " (4360, 0.021792571560863734),\n",
       " (2329, 0.02183342694150647),\n",
       " (3444, 0.022011386952786625),\n",
       " (675, 0.022029726839247723),\n",
       " (3446, 0.022033728168270744),\n",
       " (2054, 0.022205550247928967),\n",
       " (3101, 0.022269631530691884),\n",
       " (1882, 0.022514145171662593),\n",
       " (520, 0.02273876933081436),\n",
       " (594, 0.022748769418069123),\n",
       " (2377, 0.022890741182914755),\n",
       " (4918, 0.023610736980489523),\n",
       " (1860, 0.023795969665566657),\n",
       " (327, 0.024566254365786192),\n",
       " (4365, 0.02461986270748387)]"
      ]
     },
     "execution_count": 47,
     "metadata": {},
     "output_type": "execute_result"
    }
   ],
   "source": [
    "res"
   ]
  },
  {
   "cell_type": "code",
   "execution_count": 48,
   "metadata": {},
   "outputs": [],
   "source": [
    "artist_list = pickle.load(open('Pickled models/artist-list','rb'))"
   ]
  },
  {
   "cell_type": "code",
   "execution_count": 57,
   "metadata": {},
   "outputs": [],
   "source": [
    "def build_corpus():\n",
    "    corpus = ''\n",
    "    nearest_n_indices = [x[0] for x in res]\n",
    "    for n in nearest_n_indices:\n",
    "        artist = artist_list[n]\n",
    "        artist_df = df[df['artist'] == artist]\n",
    "        artist_lyrics = ' '.join(list(artist_df['lyrics']))\n",
    "        corpus += artist_lyrics\n",
    "    return corpus\n",
    "    \n",
    "    "
   ]
  },
  {
   "cell_type": "code",
   "execution_count": 60,
   "metadata": {},
   "outputs": [],
   "source": [
    "corpus = build_corpus()"
   ]
  },
  {
   "cell_type": "code",
   "execution_count": 61,
   "metadata": {},
   "outputs": [
    {
     "data": {
      "text/plain": [
       "2953273"
      ]
     },
     "execution_count": 61,
     "metadata": {},
     "output_type": "execute_result"
    }
   ],
   "source": [
    "def get_songs():\n",
    "    num_artists = len(res)\n",
    "    "
   ]
  },
  {
   "cell_type": "code",
   "execution_count": 62,
   "metadata": {},
   "outputs": [
    {
     "data": {
      "text/plain": [
       "100"
      ]
     },
     "execution_count": 62,
     "metadata": {},
     "output_type": "execute_result"
    }
   ],
   "source": []
  },
  {
   "cell_type": "code",
   "execution_count": null,
   "metadata": {},
   "outputs": [],
   "source": []
  },
  {
   "cell_type": "code",
   "execution_count": null,
   "metadata": {},
   "outputs": [],
   "source": []
  },
  {
   "cell_type": "code",
   "execution_count": 112,
   "metadata": {},
   "outputs": [],
   "source": [
    "for ind,cluster in enumerate(artist_model.labels_):\n",
    "    if cluster == 0:\n",
    "        corpus_one += df.iloc[ind]['lyrics']\n",
    "    elif cluster == 1:\n",
    "        corpus_two += df.iloc[ind]['lyrics']\n",
    "    elif cluster == 2:\n",
    "        corpus_three += df.iloc[ind]['lyrics']\n",
    "    else:\n",
    "        corpus_four += df.iloc[ind]['lyrics']"
   ]
  },
  {
   "cell_type": "code",
   "execution_count": 90,
   "metadata": {},
   "outputs": [],
   "source": [
    "#Build word embeddings for each cluster:\n"
   ]
  },
  {
   "cell_type": "code",
   "execution_count": 91,
   "metadata": {},
   "outputs": [
    {
     "name": "stderr",
     "output_type": "stream",
     "text": [
      "C:\\Users\\Mudit\\Anaconda3\\envs\\tensorflow_gpuenv\\lib\\site-packages\\gensim\\models\\base_any2vec.py:743: UserWarning: C extension not loaded, training will be slow. Install a C compiler and reinstall gensim for fast training.\n",
      "  \"C extension not loaded, training will be slow. \"\n"
     ]
    }
   ],
   "source": [
    "embedding_one = Word2Vec(corpus_one,size = 100,min_count = 5)"
   ]
  },
  {
   "cell_type": "code",
   "execution_count": 97,
   "metadata": {},
   "outputs": [],
   "source": [
    "pickle.dump(embedding_one,open('Pickled models/artist_embedding_one','wb'))"
   ]
  },
  {
   "cell_type": "code",
   "execution_count": null,
   "metadata": {},
   "outputs": [],
   "source": []
  },
  {
   "cell_type": "code",
   "execution_count": 92,
   "metadata": {},
   "outputs": [],
   "source": [
    "embedding_two = Word2Vec(corpus_two,size = 100,min_count = 5)"
   ]
  },
  {
   "cell_type": "code",
   "execution_count": 98,
   "metadata": {},
   "outputs": [],
   "source": [
    "pickle.dump(embedding_two,open('Pickled models/artist_embedding_two','wb'))"
   ]
  },
  {
   "cell_type": "code",
   "execution_count": 93,
   "metadata": {},
   "outputs": [],
   "source": [
    "embedding_three = Word2Vec(corpus_three,size = 100,min_count = 5)"
   ]
  },
  {
   "cell_type": "code",
   "execution_count": 99,
   "metadata": {},
   "outputs": [],
   "source": [
    "pickle.dump(embedding_three,open('Pickled models/artist_embedding_three','wb'))"
   ]
  },
  {
   "cell_type": "code",
   "execution_count": 95,
   "metadata": {},
   "outputs": [],
   "source": [
    "embedding_four = Word2Vec(corpus_four,size = 100,min_count = 5)"
   ]
  },
  {
   "cell_type": "code",
   "execution_count": 100,
   "metadata": {},
   "outputs": [],
   "source": [
    "pickle.dump(embedding_four,open('Pickled models/artist_embedding_four','wb'))"
   ]
  },
  {
   "cell_type": "code",
   "execution_count": null,
   "metadata": {},
   "outputs": [],
   "source": []
  },
  {
   "cell_type": "markdown",
   "metadata": {},
   "source": [
    "Loading the pickled embedding models:"
   ]
  },
  {
   "cell_type": "code",
   "execution_count": 123,
   "metadata": {},
   "outputs": [],
   "source": [
    "embedding_one = pickle.load(open('Pickled models/artist_embedding_one','rb'))\n",
    "embedding_two = pickle.load(open('Pickled models/artist_embedding_two','rb'))\n",
    "embedding_three = pickle.load(open('Pickled models/artist_embedding_three','rb'))\n",
    "embedding_four = pickle.load(open('Pickled models/artist_embedding_four','rb'))\n",
    "    "
   ]
  },
  {
   "cell_type": "code",
   "execution_count": 154,
   "metadata": {},
   "outputs": [],
   "source": [
    "artist_mean_array = pickle.load(open('Pickled models/artist-mean-array','rb'))"
   ]
  },
  {
   "cell_type": "code",
   "execution_count": 115,
   "metadata": {},
   "outputs": [],
   "source": [
    "features = [x for x in vals]"
   ]
  },
  {
   "cell_type": "code",
   "execution_count": null,
   "metadata": {},
   "outputs": [],
   "source": []
  },
  {
   "cell_type": "code",
   "execution_count": 166,
   "metadata": {},
   "outputs": [],
   "source": []
  },
  {
   "cell_type": "code",
   "execution_count": 167,
   "metadata": {},
   "outputs": [],
   "source": [
    "distances = get_top_n(5,vals,prediction)"
   ]
  },
  {
   "cell_type": "code",
   "execution_count": 185,
   "metadata": {},
   "outputs": [],
   "source": [
    "top_5 = sorted(distances,key = lambda x:x[1])[:5]\n",
    "top_5 = [x[0] for x in top_5]"
   ]
  },
  {
   "cell_type": "code",
   "execution_count": 181,
   "metadata": {},
   "outputs": [],
   "source": [
    "artist_list = pickle.load(open('Pickled models/artist-list','rb'))\n",
    "\n"
   ]
  },
  {
   "cell_type": "code",
   "execution_count": 190,
   "metadata": {},
   "outputs": [
    {
     "name": "stdout",
     "output_type": "stream",
     "text": [
      "The most similar artists to the one in the target song are:\n",
      "brain-failure\n",
      "flaming-lips\n",
      "edith-frost\n",
      "arcs\n",
      "blue-man-group\n"
     ]
    }
   ],
   "source": [
    "#top_5\n",
    "print('The most similar artists to the one in the target song are:')\n",
    "print(artist_list[top_5[0]])\n",
    "print(artist_list[top_5[1]])\n",
    "print(artist_list[top_5[2]])\n",
    "print(artist_list[top_5[3]])\n",
    "print(artist_list[top_5[4]])\n"
   ]
  },
  {
   "cell_type": "code",
   "execution_count": 188,
   "metadata": {},
   "outputs": [
    {
     "data": {
      "text/plain": [
       "list"
      ]
     },
     "execution_count": 188,
     "metadata": {},
     "output_type": "execute_result"
    }
   ],
   "source": [
    "type(artist_list)"
   ]
  },
  {
   "cell_type": "code",
   "execution_count": 134,
   "metadata": {},
   "outputs": [
    {
     "data": {
      "text/plain": [
       "array([3, 3, 1, 1, 2, 2, 3, 2, 1, 2, 2, 3, 3, 0, 0, 3, 0, 3, 3, 0, 2, 3,\n",
       "       3, 2, 3, 0, 3, 2, 2, 1, 2, 2, 0, 1, 3, 3, 2, 1, 3, 2, 2, 3, 3, 0,\n",
       "       3, 1, 3, 1, 1, 1, 3, 3, 2, 3, 3, 3, 0, 2, 0, 2, 1, 3, 1, 0, 2, 2,\n",
       "       1, 3, 3, 2, 1, 2, 3, 3, 1, 2, 0, 3, 2, 1, 3, 1, 2, 3, 3, 3, 3, 1,\n",
       "       3, 2, 1, 2, 1, 1, 1, 2, 1, 1, 1, 1])"
      ]
     },
     "execution_count": 134,
     "metadata": {},
     "output_type": "execute_result"
    }
   ],
   "source": [
    "artist_model.labels_[0:100]"
   ]
  },
  {
   "cell_type": "code",
   "execution_count": 131,
   "metadata": {},
   "outputs": [
    {
     "data": {
      "text/plain": [
       "array([3, 3, 1, ..., 3, 2, 2])"
      ]
     },
     "execution_count": 131,
     "metadata": {},
     "output_type": "execute_result"
    }
   ],
   "source": [
    "(artist_model.labels_)"
   ]
  },
  {
   "cell_type": "code",
   "execution_count": 137,
   "metadata": {},
   "outputs": [],
   "source": [
    "indices = []\n",
    "for ind,val in enumerate(artist_model.labels_):\n",
    "    if val == 2:\n",
    "        indices.append(ind)\n",
    "        "
   ]
  },
  {
   "cell_type": "code",
   "execution_count": 139,
   "metadata": {},
   "outputs": [
    {
     "data": {
      "text/plain": [
       "1469"
      ]
     },
     "execution_count": 139,
     "metadata": {},
     "output_type": "execute_result"
    }
   ],
   "source": [
    "len(indices)"
   ]
  },
  {
   "cell_type": "code",
   "execution_count": 140,
   "metadata": {},
   "outputs": [
    {
     "data": {
      "text/plain": [
       "4940"
      ]
     },
     "execution_count": 140,
     "metadata": {},
     "output_type": "execute_result"
    }
   ],
   "source": [
    "indices2 = []\n"
   ]
  },
  {
   "cell_type": "code",
   "execution_count": 157,
   "metadata": {},
   "outputs": [
    {
     "data": {
      "text/plain": [
       "4940"
      ]
     },
     "execution_count": 157,
     "metadata": {},
     "output_type": "execute_result"
    }
   ],
   "source": [
    "len(artist_model.labels_)"
   ]
  },
  {
   "cell_type": "code",
   "execution_count": 144,
   "metadata": {},
   "outputs": [
    {
     "data": {
      "text/plain": [
       "Index(['Unique_Word_Count', 'Type-Token Ratio', 'Sentiment Polarity',\n",
       "       'Word Density'],\n",
       "      dtype='object')"
      ]
     },
     "execution_count": 144,
     "metadata": {},
     "output_type": "execute_result"
    }
   ],
   "source": [
    "df.columns[4:]"
   ]
  },
  {
   "cell_type": "code",
   "execution_count": 176,
   "metadata": {},
   "outputs": [
    {
     "data": {
      "text/plain": [
       "array([3, 3, 1, ..., 3, 2, 2])"
      ]
     },
     "execution_count": 176,
     "metadata": {},
     "output_type": "execute_result"
    }
   ],
   "source": [
    "(artist_model.labels_)"
   ]
  },
  {
   "cell_type": "code",
   "execution_count": 178,
   "metadata": {},
   "outputs": [
    {
     "data": {
      "text/plain": [
       "11702324"
      ]
     },
     "execution_count": 178,
     "metadata": {},
     "output_type": "execute_result"
    }
   ],
   "source": [
    "len(corpus_one) + len(corpus_two) + len(corpus_three) + len(corpus_four)"
   ]
  },
  {
   "cell_type": "code",
   "execution_count": 12,
   "metadata": {},
   "outputs": [],
   "source": [
    "subset = df[df['artist'] == 'beyonce-knowles']"
   ]
  },
  {
   "cell_type": "code",
   "execution_count": 17,
   "metadata": {},
   "outputs": [],
   "source": [
    "lyrics = ' '.join(list(subset['lyrics']))"
   ]
  },
  {
   "cell_type": "code",
   "execution_count": 18,
   "metadata": {},
   "outputs": [
    {
     "data": {
      "text/plain": [
       "464899"
      ]
     },
     "execution_count": 18,
     "metadata": {},
     "output_type": "execute_result"
    }
   ],
   "source": [
    "len(lyrics)"
   ]
  },
  {
   "cell_type": "code",
   "execution_count": null,
   "metadata": {},
   "outputs": [],
   "source": []
  }
 ],
 "metadata": {
  "kernelspec": {
   "display_name": "Python 3",
   "language": "python",
   "name": "python3"
  },
  "language_info": {
   "codemirror_mode": {
    "name": "ipython",
    "version": 3
   },
   "file_extension": ".py",
   "mimetype": "text/x-python",
   "name": "python",
   "nbconvert_exporter": "python",
   "pygments_lexer": "ipython3",
   "version": "3.6.5"
  }
 },
 "nbformat": 4,
 "nbformat_minor": 2
}
